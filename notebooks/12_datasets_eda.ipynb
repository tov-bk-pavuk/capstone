{
 "cells": [
  {
   "cell_type": "markdown",
   "id": "2527256d-7c3c-4dd0-b335-3d28acdc90ba",
   "metadata": {},
   "source": [
    "## **Import**"
   ]
  },
  {
   "cell_type": "code",
   "execution_count": 413,
   "id": "5871d090-9289-473b-b11b-1f4233ad3b17",
   "metadata": {
    "editable": true,
    "slideshow": {
     "slide_type": ""
    },
    "tags": []
   },
   "outputs": [],
   "source": [
    "import numpy as np\n",
    "import pandas as pd\n",
    "import matplotlib.pyplot as plt\n",
    "import seaborn as sns\n",
    "\n",
    "from sklearn.preprocessing import MinMaxScaler, StandardScaler\n",
    "from sklearn.compose import ColumnTransformer"
   ]
  },
  {
   "cell_type": "markdown",
   "id": "30a93873-620d-4888-9672-04b013b49d01",
   "metadata": {},
   "source": [
    "### **Data loading**"
   ]
  },
  {
   "cell_type": "code",
   "execution_count": 414,
   "id": "8ed26110-c187-40ab-b787-c6ec42a26a90",
   "metadata": {},
   "outputs": [],
   "source": [
    "datasets = {\n",
    "    \"raw_data_age\": pd.read_csv(\"../data/IRCC_AdhocSR_PR_0001_E.csv\", index_col=0),\n",
    "    \"raw_data_census\": pd.read_csv(\"../data/IRCC_AdhocSR_PR_0002_E.csv\", encoding='ISO-8859-1', index_col=0),\n",
    "    \"raw_data_birth_country\": pd.read_csv(\"../data/IRCC_AdhocSR_PR_0003_E.csv\", index_col=0),\n",
    "    \"raw_data_citizenship\": pd.read_csv(\"../data/IRCC_AdhocSR_PR_0004_E.csv\", index_col=0),\n",
    "    \"raw_data_education\": pd.read_csv(\"../data/IRCC_AdhocSR_PR_0005_E.csv\",index_col=0),\n",
    "    \"raw_data_gender\": pd.read_csv(\"../data/IRCC_AdhocSR_PR_0006_E.csv\", index_col=0),\n",
    "    \"raw_data_legal_status\": pd.read_csv(\"../data/IRCC_AdhocSR_PR_0007_E.csv\", index_col=0),\n",
    "    \"raw_data_marital_status\": pd.read_csv(\"../data/IRCC_AdhocSR_PR_0008_E.csv\",index_col=0),\n",
    "    \"noc_2011\": pd.read_csv(\"../data/IRCC_AdhocSR_PR_0009_E.csv\", encoding='ISO-8859-1', index_col=0),\n",
    "    \"raw_data_preferred_language\": pd.read_csv(\"../data/IRCC_AdhocSR_PR_0010_E.csv\", index_col=0),\n",
    "    \"raw_data_province\": pd.read_csv(\"../data/IRCC_AdhocSR_PR_0011_E.csv\", index_col=0),\n",
    "    \"raw_data_skill_level_2\": pd.read_csv(\"../data/IRCC_AdhocSR_PR_0012_E.csv\", index_col=0),\n",
    "}"
   ]
  },
  {
   "cell_type": "markdown",
   "id": "5ebc5543-e2e6-463d-a7a4-4bdb44e73fa0",
   "metadata": {},
   "source": [
    "## **Data processing**"
   ]
  },
  {
   "cell_type": "code",
   "execution_count": 415,
   "id": "11569184-41f2-4e7d-bb15-ca8466c801d7",
   "metadata": {},
   "outputs": [],
   "source": [
    "from pprint import pprint\n",
    "\n",
    "for dataset in datasets.values():\n",
    "    dataset.reset_index(inplace=True)\n",
    "        # Check and convert 'persons_count' if it exists\n",
    "    if \"persons_count\" in dataset.columns:\n",
    "        dataset[\"persons_count\"] = pd.to_numeric(dataset[\"persons_count\"], errors=\"coerce\")\n",
    "    \n",
    "    # Alternatively, check and convert 'permit_holders' if it exists\n",
    "    elif \"permit_holders\" in dataset.columns:\n",
    "        dataset[\"permit_holders\"] = pd.to_numeric(dataset[\"permit_holders\"], errors=\"coerce\")\n",
    "\n",
    "    # Check and rename 'persons_count' if it exists\n",
    "    if \"persons_count\" in dataset.columns:\n",
    "        new_name = f\"persons_count_{dataset.columns[2][:5]}\"\n",
    "        dataset.rename(columns={\"persons_count\": new_name}, inplace=True)\n",
    "    \n",
    "    # Check and rename 'permit_holders' if it exists\n",
    "    if \"permit_holders\" in dataset.columns:\n",
    "        new_name = f\"permit_holders_{dataset.columns[2][:5]}\"\n",
    "        dataset.rename(columns={\"permit_holders\": new_name}, inplace=True)\n",
    "    \n",
    "    # dataset.rename(columns={col: col + dataset.columns[2][:5] for col in dataset.columns if col != 'landing_year'}, inplace=True)\n",
    "    \n",
    "    # print(dataset.info())\n",
    "    # pprint(dataset.sample(5))\n",
    "    # pprint(dataset.columns)"
   ]
  },
  {
   "cell_type": "code",
   "execution_count": 416,
   "id": "c54e7384-5db7-4ed2-87e1-49608d9cb67f",
   "metadata": {},
   "outputs": [
    {
     "name": "stdout",
     "output_type": "stream",
     "text": [
      "<class 'pandas.core.frame.DataFrame'>\n",
      "RangeIndex: 119 entries, 0 to 118\n",
      "Data columns (total 3 columns):\n",
      " #   Column                      Non-Null Count  Dtype  \n",
      "---  ------                      --------------  -----  \n",
      " 0   persons_count_perso         118 non-null    float64\n",
      " 1   landing_year                119 non-null    int64  \n",
      " 2   person_age_level1_eng_desc  119 non-null    object \n",
      "dtypes: float64(1), int64(1), object(1)\n",
      "memory usage: 2.9+ KB\n",
      "None\n",
      "<class 'pandas.core.frame.DataFrame'>\n",
      "RangeIndex: 2749 entries, 0 to 2748\n",
      "Data columns (total 3 columns):\n",
      " #   Column                             Non-Null Count  Dtype  \n",
      "---  ------                             --------------  -----  \n",
      " 0   persons_count_censu                2637 non-null   float64\n",
      " 1   landing_year                       2749 non-null   int64  \n",
      " 2   census_metropolitan_area_eng_desc  2749 non-null   object \n",
      "dtypes: float64(1), int64(1), object(1)\n",
      "memory usage: 64.6+ KB\n",
      "None\n",
      "<class 'pandas.core.frame.DataFrame'>\n",
      "RangeIndex: 3692 entries, 0 to 3691\n",
      "Data columns (total 3 columns):\n",
      " #   Column                Non-Null Count  Dtype  \n",
      "---  ------                --------------  -----  \n",
      " 0   permit_holders_birth  3292 non-null   float64\n",
      " 1   landing_year          3692 non-null   int64  \n",
      " 2   birth_country         3692 non-null   object \n",
      "dtypes: float64(1), int64(1), object(1)\n",
      "memory usage: 86.7+ KB\n",
      "None\n",
      "<class 'pandas.core.frame.DataFrame'>\n",
      "RangeIndex: 3209 entries, 0 to 3208\n",
      "Data columns (total 3 columns):\n",
      " #   Column                Non-Null Count  Dtype  \n",
      "---  ------                --------------  -----  \n",
      " 0   permit_holders_citiz  2987 non-null   float64\n",
      " 1   landing_year          3209 non-null   int64  \n",
      " 2   citizenship_country   3209 non-null   object \n",
      "dtypes: float64(1), int64(1), object(1)\n",
      "memory usage: 75.3+ KB\n",
      "None\n",
      "<class 'pandas.core.frame.DataFrame'>\n",
      "RangeIndex: 160 entries, 0 to 159\n",
      "Data columns (total 3 columns):\n",
      " #   Column                            Non-Null Count  Dtype  \n",
      "---  ------                            --------------  -----  \n",
      " 0   persons_count_educa               155 non-null    float64\n",
      " 1   landing_year                      160 non-null    int64  \n",
      " 2   education_qualification_eng_desc  143 non-null    object \n",
      "dtypes: float64(1), int64(1), object(1)\n",
      "memory usage: 3.9+ KB\n",
      "None\n",
      "<class 'pandas.core.frame.DataFrame'>\n",
      "RangeIndex: 50 entries, 0 to 49\n",
      "Data columns (total 3 columns):\n",
      " #   Column               Non-Null Count  Dtype  \n",
      "---  ------               --------------  -----  \n",
      " 0   persons_count_gende  40 non-null     float64\n",
      " 1   landing_year         50 non-null     int64  \n",
      " 2   gender_eng_desc      50 non-null     object \n",
      "dtypes: float64(1), int64(1), object(1)\n",
      "memory usage: 1.3+ KB\n",
      "None\n",
      "<class 'pandas.core.frame.DataFrame'>\n",
      "RangeIndex: 347 entries, 0 to 346\n",
      "Data columns (total 5 columns):\n",
      " #   Column                     Non-Null Count  Dtype  \n",
      "---  ------                     --------------  -----  \n",
      " 0   persons_count_main_        325 non-null    float64\n",
      " 1   landing_year               347 non-null    int64  \n",
      " 2   main_category_eng_desc     347 non-null    object \n",
      " 3   group_eng_desc             347 non-null    object \n",
      " 4   component_eng_description  347 non-null    object \n",
      "dtypes: float64(1), int64(1), object(3)\n",
      "memory usage: 13.7+ KB\n",
      "None\n",
      "<class 'pandas.core.frame.DataFrame'>\n",
      "RangeIndex: 128 entries, 0 to 127\n",
      "Data columns (total 3 columns):\n",
      " #   Column                   Non-Null Count  Dtype  \n",
      "---  ------                   --------------  -----  \n",
      " 0   persons_count_marit      127 non-null    float64\n",
      " 1   landing_year             128 non-null    int64  \n",
      " 2   marital_status_eng_desc  128 non-null    object \n",
      "dtypes: float64(1), int64(1), object(1)\n",
      "memory usage: 3.1+ KB\n",
      "None\n",
      "<class 'pandas.core.frame.DataFrame'>\n",
      "RangeIndex: 8014 entries, 0 to 8013\n",
      "Data columns (total 3 columns):\n",
      " #   Column                    Non-Null Count  Dtype  \n",
      "---  ------                    --------------  -----  \n",
      " 0   persons_count_noc_2       6768 non-null   float64\n",
      " 1   landing_year              8014 non-null   int64  \n",
      " 2   noc_2011_level4_eng_desc  8014 non-null   object \n",
      "dtypes: float64(1), int64(1), object(1)\n",
      "memory usage: 188.0+ KB\n",
      "None\n",
      "<class 'pandas.core.frame.DataFrame'>\n",
      "RangeIndex: 72 entries, 0 to 71\n",
      "Data columns (total 3 columns):\n",
      " #   Column                       Non-Null Count  Dtype  \n",
      "---  ------                       --------------  -----  \n",
      " 0   persons_count_prefe          70 non-null     float64\n",
      " 1   landing_year                 72 non-null     int64  \n",
      " 2   preferred_language_eng_desc  55 non-null     object \n",
      "dtypes: float64(1), int64(1), object(1)\n",
      "memory usage: 1.8+ KB\n",
      "None\n",
      "<class 'pandas.core.frame.DataFrame'>\n",
      "RangeIndex: 235 entries, 0 to 234\n",
      "Data columns (total 3 columns):\n",
      " #   Column                  Non-Null Count  Dtype  \n",
      "---  ------                  --------------  -----  \n",
      " 0   persons_count_provi     232 non-null    float64\n",
      " 1   landing_year            235 non-null    int64  \n",
      " 2   province_long_eng_desc  235 non-null    object \n",
      "dtypes: float64(1), int64(1), object(1)\n",
      "memory usage: 5.6+ KB\n",
      "None\n",
      "<class 'pandas.core.frame.DataFrame'>\n",
      "RangeIndex: 170 entries, 0 to 169\n",
      "Data columns (total 4 columns):\n",
      " #   Column                 Non-Null Count  Dtype \n",
      "---  ------                 --------------  ----- \n",
      " 0   persons_count_skill    170 non-null    int64 \n",
      " 1   landing_year           170 non-null    int64 \n",
      " 2   skill_level1_eng_desc  170 non-null    object\n",
      " 3   skill_level2_eng_desc  170 non-null    object\n",
      "dtypes: int64(2), object(2)\n",
      "memory usage: 5.4+ KB\n",
      "None\n"
     ]
    }
   ],
   "source": [
    "for dataset in datasets.values():\n",
    "    pprint(dataset.info())"
   ]
  },
  {
   "cell_type": "code",
   "execution_count": null,
   "id": "90c1ede1-eb99-4eec-987a-e7546d71e8fb",
   "metadata": {},
   "outputs": [],
   "source": []
  },
  {
   "cell_type": "markdown",
   "id": "40345a29-6623-4495-a79d-53c129400528",
   "metadata": {},
   "source": [
    "## **Age data**"
   ]
  },
  {
   "cell_type": "code",
   "execution_count": 417,
   "id": "96442539-24a5-495d-8909-6fdafafe22df",
   "metadata": {},
   "outputs": [
    {
     "data": {
      "text/plain": [
       "array(['0 to 14 years old', '15 to 29 years old', '30 to 44 years old',\n",
       "       '45 to 59 years old', '60 to 74 years old', '75 years old or more',\n",
       "       'Not stated'], dtype=object)"
      ]
     },
     "execution_count": 417,
     "metadata": {},
     "output_type": "execute_result"
    }
   ],
   "source": [
    "datasets[\"raw_data_age\"][\"person_age_level1_eng_desc\"].unique()"
   ]
  },
  {
   "cell_type": "code",
   "execution_count": 418,
   "id": "1b4ab107-0355-4244-8ec3-255e0f2bbbb5",
   "metadata": {},
   "outputs": [
    {
     "data": {
      "text/html": [
       "<div>\n",
       "<style scoped>\n",
       "    .dataframe tbody tr th:only-of-type {\n",
       "        vertical-align: middle;\n",
       "    }\n",
       "\n",
       "    .dataframe tbody tr th {\n",
       "        vertical-align: top;\n",
       "    }\n",
       "\n",
       "    .dataframe thead th {\n",
       "        text-align: right;\n",
       "    }\n",
       "</style>\n",
       "<table border=\"1\" class=\"dataframe\">\n",
       "  <thead>\n",
       "    <tr style=\"text-align: right;\">\n",
       "      <th></th>\n",
       "      <th>persons_count_perso</th>\n",
       "      <th>landing_year</th>\n",
       "    </tr>\n",
       "    <tr>\n",
       "      <th>person_age_level1_eng_desc</th>\n",
       "      <th></th>\n",
       "      <th></th>\n",
       "    </tr>\n",
       "  </thead>\n",
       "  <tbody>\n",
       "    <tr>\n",
       "      <th>0 to 14 years old</th>\n",
       "      <td>897610.0</td>\n",
       "      <td>34136</td>\n",
       "    </tr>\n",
       "    <tr>\n",
       "      <th>15 to 29 years old</th>\n",
       "      <td>1241990.0</td>\n",
       "      <td>34136</td>\n",
       "    </tr>\n",
       "    <tr>\n",
       "      <th>30 to 44 years old</th>\n",
       "      <td>1511255.0</td>\n",
       "      <td>34136</td>\n",
       "    </tr>\n",
       "    <tr>\n",
       "      <th>45 to 59 years old</th>\n",
       "      <td>426385.0</td>\n",
       "      <td>34136</td>\n",
       "    </tr>\n",
       "    <tr>\n",
       "      <th>60 to 74 years old</th>\n",
       "      <td>180520.0</td>\n",
       "      <td>34136</td>\n",
       "    </tr>\n",
       "    <tr>\n",
       "      <th>75 years old or more</th>\n",
       "      <td>30715.0</td>\n",
       "      <td>34136</td>\n",
       "    </tr>\n",
       "    <tr>\n",
       "      <th>Not stated</th>\n",
       "      <td>485.0</td>\n",
       "      <td>34136</td>\n",
       "    </tr>\n",
       "  </tbody>\n",
       "</table>\n",
       "</div>"
      ],
      "text/plain": [
       "                            persons_count_perso  landing_year\n",
       "person_age_level1_eng_desc                                   \n",
       "0 to 14 years old                      897610.0         34136\n",
       "15 to 29 years old                    1241990.0         34136\n",
       "30 to 44 years old                    1511255.0         34136\n",
       "45 to 59 years old                     426385.0         34136\n",
       "60 to 74 years old                     180520.0         34136\n",
       "75 years old or more                    30715.0         34136\n",
       "Not stated                                485.0         34136"
      ]
     },
     "execution_count": 418,
     "metadata": {},
     "output_type": "execute_result"
    }
   ],
   "source": [
    "datasets[\"raw_data_age\"].groupby(\"person_age_level1_eng_desc\").sum()"
   ]
  },
  {
   "cell_type": "code",
   "execution_count": 419,
   "id": "17f84561-7bf4-4b49-8671-719555e12eee",
   "metadata": {},
   "outputs": [],
   "source": [
    "age_dataset = datasets[\"raw_data_age\"].drop(columns=\"landing_year\")\n",
    "age_dataset = age_dataset[age_dataset.person_age_level1_eng_desc != \"Not stated\"]"
   ]
  },
  {
   "cell_type": "code",
   "execution_count": 420,
   "id": "756dde62-7bcb-43f2-8d2c-98ea3c7c03aa",
   "metadata": {},
   "outputs": [
    {
     "data": {
      "text/html": [
       "<div>\n",
       "<style scoped>\n",
       "    .dataframe tbody tr th:only-of-type {\n",
       "        vertical-align: middle;\n",
       "    }\n",
       "\n",
       "    .dataframe tbody tr th {\n",
       "        vertical-align: top;\n",
       "    }\n",
       "\n",
       "    .dataframe thead th {\n",
       "        text-align: right;\n",
       "    }\n",
       "</style>\n",
       "<table border=\"1\" class=\"dataframe\">\n",
       "  <thead>\n",
       "    <tr style=\"text-align: right;\">\n",
       "      <th></th>\n",
       "      <th>persons_count_perso</th>\n",
       "      <th>person_age_level1_eng_desc</th>\n",
       "    </tr>\n",
       "  </thead>\n",
       "  <tbody>\n",
       "    <tr>\n",
       "      <th>57</th>\n",
       "      <td>73375.0</td>\n",
       "      <td>15 to 29 years old</td>\n",
       "    </tr>\n",
       "    <tr>\n",
       "      <th>50</th>\n",
       "      <td>72520.0</td>\n",
       "      <td>15 to 29 years old</td>\n",
       "    </tr>\n",
       "    <tr>\n",
       "      <th>68</th>\n",
       "      <td>1690.0</td>\n",
       "      <td>75 years old or more</td>\n",
       "    </tr>\n",
       "    <tr>\n",
       "      <th>23</th>\n",
       "      <td>76350.0</td>\n",
       "      <td>30 to 44 years old</td>\n",
       "    </tr>\n",
       "    <tr>\n",
       "      <th>95</th>\n",
       "      <td>21220.0</td>\n",
       "      <td>60 to 74 years old</td>\n",
       "    </tr>\n",
       "  </tbody>\n",
       "</table>\n",
       "</div>"
      ],
      "text/plain": [
       "    persons_count_perso person_age_level1_eng_desc\n",
       "57              73375.0         15 to 29 years old\n",
       "50              72520.0         15 to 29 years old\n",
       "68               1690.0       75 years old or more\n",
       "23              76350.0         30 to 44 years old\n",
       "95              21220.0         60 to 74 years old"
      ]
     },
     "execution_count": 420,
     "metadata": {},
     "output_type": "execute_result"
    }
   ],
   "source": [
    "age_dataset.sample(5)"
   ]
  },
  {
   "cell_type": "code",
   "execution_count": 421,
   "id": "a0d6b27f-f6a5-4b59-96cf-b5d8a9cec510",
   "metadata": {},
   "outputs": [
    {
     "data": {
      "image/png": "[encoded data removed]",
      "text/plain": [
       "<Figure size 640x480 with 1 Axes>"
      ]
     },
     "metadata": {},
     "output_type": "display_data"
    }
   ],
   "source": [
    "age_dataset.groupby(\"person_age_level1_eng_desc\").sum().plot(kind=\"bar\");"
   ]
  },
  {
   "cell_type": "code",
   "execution_count": 422,
   "id": "a7d0c128-f76f-4df0-a7d8-ef46fce2a493",
   "metadata": {},
   "outputs": [
    {
     "data": {
      "text/html": [
       "<div>\n",
       "<style scoped>\n",
       "    .dataframe tbody tr th:only-of-type {\n",
       "        vertical-align: middle;\n",
       "    }\n",
       "\n",
       "    .dataframe tbody tr th {\n",
       "        vertical-align: top;\n",
       "    }\n",
       "\n",
       "    .dataframe thead th {\n",
       "        text-align: right;\n",
       "    }\n",
       "</style>\n",
       "<table border=\"1\" class=\"dataframe\">\n",
       "  <thead>\n",
       "    <tr style=\"text-align: right;\">\n",
       "      <th></th>\n",
       "      <th>person_age_level1_eng_desc</th>\n",
       "      <th>persons_count_perso</th>\n",
       "    </tr>\n",
       "  </thead>\n",
       "  <tbody>\n",
       "    <tr>\n",
       "      <th>0</th>\n",
       "      <td>0 to 14 years old</td>\n",
       "      <td>897610.0</td>\n",
       "    </tr>\n",
       "    <tr>\n",
       "      <th>1</th>\n",
       "      <td>15 to 29 years old</td>\n",
       "      <td>1241990.0</td>\n",
       "    </tr>\n",
       "    <tr>\n",
       "      <th>2</th>\n",
       "      <td>30 to 44 years old</td>\n",
       "      <td>1511255.0</td>\n",
       "    </tr>\n",
       "    <tr>\n",
       "      <th>3</th>\n",
       "      <td>45 to 59 years old</td>\n",
       "      <td>426385.0</td>\n",
       "    </tr>\n",
       "    <tr>\n",
       "      <th>4</th>\n",
       "      <td>60 to 74 years old</td>\n",
       "      <td>180520.0</td>\n",
       "    </tr>\n",
       "    <tr>\n",
       "      <th>5</th>\n",
       "      <td>75 years old or more</td>\n",
       "      <td>30715.0</td>\n",
       "    </tr>\n",
       "  </tbody>\n",
       "</table>\n",
       "</div>"
      ],
      "text/plain": [
       "  person_age_level1_eng_desc  persons_count_perso\n",
       "0          0 to 14 years old             897610.0\n",
       "1         15 to 29 years old            1241990.0\n",
       "2         30 to 44 years old            1511255.0\n",
       "3         45 to 59 years old             426385.0\n",
       "4         60 to 74 years old             180520.0\n",
       "5       75 years old or more              30715.0"
      ]
     },
     "execution_count": 422,
     "metadata": {},
     "output_type": "execute_result"
    }
   ],
   "source": [
    "summed_by_age = pd.DataFrame(age_dataset.groupby(\"person_age_level1_eng_desc\").sum()).reset_index()\n",
    "summed_by_age"
   ]
  },
  {
   "cell_type": "code",
   "execution_count": 423,
   "id": "f76b3a52-a2d1-4c53-8bcc-57dd4ae5c9a0",
   "metadata": {},
   "outputs": [
    {
     "data": {
      "text/plain": [
       "persons_count_perso    4288475.0\n",
       "dtype: float64"
      ]
     },
     "execution_count": 423,
     "metadata": {},
     "output_type": "execute_result"
    }
   ],
   "source": [
    "total_pr_receivers = age_dataset.groupby(\"person_age_level1_eng_desc\").sum().sum()\n",
    "total_pr_receivers"
   ]
  },
  {
   "cell_type": "code",
   "execution_count": 424,
   "id": "521c0529-68a1-4932-a3e6-08861c9cc41d",
   "metadata": {},
   "outputs": [
    {
     "name": "stdout",
     "output_type": "stream",
     "text": [
      "0 to 14 years old = 20.9308\n",
      "15 to 29 years old = 28.9611\n",
      "30 to 44 years old = 35.2399\n",
      "45 to 59 years old = 9.9426\n",
      "60 to 74 years old = 4.2094\n",
      "75 years old or more = 0.7162\n"
     ]
    }
   ],
   "source": [
    "result_dict = {}\n",
    "for age, amount in zip(summed_by_age[\"person_age_level1_eng_desc\"], summed_by_age[\"persons_count_perso\"]):\n",
    "    a = amount / total_pr_receivers * 100\n",
    "    result_dict[age] = round(a.iloc[0], 4)\n",
    "    print(f\"{age} = {round(a.iloc[0], 4)}\")"
   ]
  },
  {
   "cell_type": "code",
   "execution_count": 425,
   "id": "f3b926af-009b-4cc1-8cda-a23873f14f76",
   "metadata": {},
   "outputs": [
    {
     "data": {
      "text/plain": [
       "100.0"
      ]
     },
     "execution_count": 425,
     "metadata": {},
     "output_type": "execute_result"
    }
   ],
   "source": [
    "total = [i for i in result_dict.values()]\n",
    "sum(total)"
   ]
  },
  {
   "cell_type": "markdown",
   "id": "d771a2d8-4205-414f-85ef-400d191e0c68",
   "metadata": {},
   "source": [
    "## **Birth Country dataset**"
   ]
  },
  {
   "cell_type": "code",
   "execution_count": 426,
   "id": "a200a4ec-57b3-48bc-bd88-0a1ccca399ea",
   "metadata": {},
   "outputs": [],
   "source": [
    "birth_country_dataset = datasets[\"raw_data_birth_country\"].drop(columns=\"landing_year\")"
   ]
  },
  {
   "cell_type": "code",
   "execution_count": 427,
   "id": "449acfae-7f6a-4b73-b652-bd45e43d7fca",
   "metadata": {},
   "outputs": [
    {
     "name": "stdout",
     "output_type": "stream",
     "text": [
      "<class 'pandas.core.frame.DataFrame'>\n",
      "RangeIndex: 3692 entries, 0 to 3691\n",
      "Data columns (total 2 columns):\n",
      " #   Column                Non-Null Count  Dtype  \n",
      "---  ------                --------------  -----  \n",
      " 0   permit_holders_birth  3292 non-null   float64\n",
      " 1   birth_country         3692 non-null   object \n",
      "dtypes: float64(1), object(1)\n",
      "memory usage: 57.8+ KB\n"
     ]
    }
   ],
   "source": [
    "birth_country_dataset.info()"
   ]
  },
  {
   "cell_type": "code",
   "execution_count": 428,
   "id": "7a4411e9-e456-4728-b01f-7d72447aac8b",
   "metadata": {},
   "outputs": [
    {
     "data": {
      "text/plain": [
       "permit_holders_birth    400\n",
       "birth_country             0\n",
       "dtype: int64"
      ]
     },
     "execution_count": 428,
     "metadata": {},
     "output_type": "execute_result"
    }
   ],
   "source": [
    "birth_country_dataset.isna().sum()"
   ]
  },
  {
   "cell_type": "markdown",
   "id": "195ce7c2-56d8-41dc-8dd0-7cb5388a4347",
   "metadata": {},
   "source": [
    "### Drop NaNs"
   ]
  },
  {
   "cell_type": "code",
   "execution_count": 429,
   "id": "a91bf1ed-4532-4b16-8fe2-4094205f250d",
   "metadata": {},
   "outputs": [],
   "source": [
    "birth_country_dataset.dropna(inplace=True)"
   ]
  },
  {
   "cell_type": "code",
   "execution_count": 430,
   "id": "4070d757-05ec-4150-ae7f-e6ade9b7b5f6",
   "metadata": {},
   "outputs": [
    {
     "data": {
      "text/plain": [
       "permit_holders_birth    0\n",
       "birth_country           0\n",
       "dtype: int64"
      ]
     },
     "execution_count": 430,
     "metadata": {},
     "output_type": "execute_result"
    }
   ],
   "source": [
    "birth_country_dataset.isna().sum()"
   ]
  },
  {
   "cell_type": "code",
   "execution_count": 431,
   "id": "867d7f4b-fbfa-4233-8dc7-f0e914555e1f",
   "metadata": {},
   "outputs": [
    {
     "data": {
      "text/plain": [
       "permit_holders_birth    4288255.0\n",
       "dtype: float64"
      ]
     },
     "execution_count": 431,
     "metadata": {},
     "output_type": "execute_result"
    }
   ],
   "source": [
    "total_pr_receivers = birth_country_dataset.groupby(\"birth_country\").sum().sum()\n",
    "total_pr_receivers"
   ]
  },
  {
   "cell_type": "code",
   "execution_count": 432,
   "id": "792cb6bd-c820-4ce1-8e0e-21f6f0dd5c8b",
   "metadata": {},
   "outputs": [
    {
     "data": {
      "text/html": [
       "<div>\n",
       "<style scoped>\n",
       "    .dataframe tbody tr th:only-of-type {\n",
       "        vertical-align: middle;\n",
       "    }\n",
       "\n",
       "    .dataframe tbody tr th {\n",
       "        vertical-align: top;\n",
       "    }\n",
       "\n",
       "    .dataframe thead th {\n",
       "        text-align: right;\n",
       "    }\n",
       "</style>\n",
       "<table border=\"1\" class=\"dataframe\">\n",
       "  <thead>\n",
       "    <tr style=\"text-align: right;\">\n",
       "      <th></th>\n",
       "      <th>birth_country</th>\n",
       "      <th>permit_holders_birth</th>\n",
       "    </tr>\n",
       "  </thead>\n",
       "  <tbody>\n",
       "    <tr>\n",
       "      <th>0</th>\n",
       "      <td>Afghanistan</td>\n",
       "      <td>41120.0</td>\n",
       "    </tr>\n",
       "    <tr>\n",
       "      <th>1</th>\n",
       "      <td>Albania</td>\n",
       "      <td>14785.0</td>\n",
       "    </tr>\n",
       "    <tr>\n",
       "      <th>2</th>\n",
       "      <td>Algeria</td>\n",
       "      <td>64225.0</td>\n",
       "    </tr>\n",
       "    <tr>\n",
       "      <th>3</th>\n",
       "      <td>Angola</td>\n",
       "      <td>1975.0</td>\n",
       "    </tr>\n",
       "    <tr>\n",
       "      <th>4</th>\n",
       "      <td>Antigua and Barbuda</td>\n",
       "      <td>395.0</td>\n",
       "    </tr>\n",
       "    <tr>\n",
       "      <th>...</th>\n",
       "      <td>...</td>\n",
       "      <td>...</td>\n",
       "    </tr>\n",
       "    <tr>\n",
       "      <th>207</th>\n",
       "      <td>Virgin Islands, U.S.</td>\n",
       "      <td>30.0</td>\n",
       "    </tr>\n",
       "    <tr>\n",
       "      <th>208</th>\n",
       "      <td>Yemen</td>\n",
       "      <td>2490.0</td>\n",
       "    </tr>\n",
       "    <tr>\n",
       "      <th>209</th>\n",
       "      <td>Yugoslavia</td>\n",
       "      <td>9355.0</td>\n",
       "    </tr>\n",
       "    <tr>\n",
       "      <th>210</th>\n",
       "      <td>Zambia</td>\n",
       "      <td>1820.0</td>\n",
       "    </tr>\n",
       "    <tr>\n",
       "      <th>211</th>\n",
       "      <td>Zimbabwe</td>\n",
       "      <td>8865.0</td>\n",
       "    </tr>\n",
       "  </tbody>\n",
       "</table>\n",
       "<p>212 rows × 2 columns</p>\n",
       "</div>"
      ],
      "text/plain": [
       "            birth_country  permit_holders_birth\n",
       "0             Afghanistan               41120.0\n",
       "1                 Albania               14785.0\n",
       "2                 Algeria               64225.0\n",
       "3                  Angola                1975.0\n",
       "4     Antigua and Barbuda                 395.0\n",
       "..                    ...                   ...\n",
       "207  Virgin Islands, U.S.                  30.0\n",
       "208                 Yemen                2490.0\n",
       "209            Yugoslavia                9355.0\n",
       "210                Zambia                1820.0\n",
       "211              Zimbabwe                8865.0\n",
       "\n",
       "[212 rows x 2 columns]"
      ]
     },
     "execution_count": 432,
     "metadata": {},
     "output_type": "execute_result"
    }
   ],
   "source": [
    "summed_by_birth_country = pd.DataFrame(birth_country_dataset.groupby(\"birth_country\").sum()).reset_index()\n",
    "summed_by_birth_country"
   ]
  },
  {
   "cell_type": "code",
   "execution_count": 433,
   "id": "4ad2cfac-6d39-487a-99a5-01d457137ee4",
   "metadata": {},
   "outputs": [
    {
     "data": {
      "text/html": [
       "<div>\n",
       "<style scoped>\n",
       "    .dataframe tbody tr th:only-of-type {\n",
       "        vertical-align: middle;\n",
       "    }\n",
       "\n",
       "    .dataframe tbody tr th {\n",
       "        vertical-align: top;\n",
       "    }\n",
       "\n",
       "    .dataframe thead th {\n",
       "        text-align: right;\n",
       "    }\n",
       "</style>\n",
       "<table border=\"1\" class=\"dataframe\">\n",
       "  <thead>\n",
       "    <tr style=\"text-align: right;\">\n",
       "      <th></th>\n",
       "      <th>permit_holders_birth</th>\n",
       "    </tr>\n",
       "  </thead>\n",
       "  <tbody>\n",
       "    <tr>\n",
       "      <th>count</th>\n",
       "      <td>212.000000</td>\n",
       "    </tr>\n",
       "    <tr>\n",
       "      <th>mean</th>\n",
       "      <td>20227.617925</td>\n",
       "    </tr>\n",
       "    <tr>\n",
       "      <th>std</th>\n",
       "      <td>64402.594417</td>\n",
       "    </tr>\n",
       "    <tr>\n",
       "      <th>min</th>\n",
       "      <td>5.000000</td>\n",
       "    </tr>\n",
       "    <tr>\n",
       "      <th>25%</th>\n",
       "      <td>688.750000</td>\n",
       "    </tr>\n",
       "    <tr>\n",
       "      <th>50%</th>\n",
       "      <td>3857.500000</td>\n",
       "    </tr>\n",
       "    <tr>\n",
       "      <th>75%</th>\n",
       "      <td>14751.250000</td>\n",
       "    </tr>\n",
       "    <tr>\n",
       "      <th>max</th>\n",
       "      <td>556855.000000</td>\n",
       "    </tr>\n",
       "  </tbody>\n",
       "</table>\n",
       "</div>"
      ],
      "text/plain": [
       "       permit_holders_birth\n",
       "count            212.000000\n",
       "mean           20227.617925\n",
       "std            64402.594417\n",
       "min                5.000000\n",
       "25%              688.750000\n",
       "50%             3857.500000\n",
       "75%            14751.250000\n",
       "max           556855.000000"
      ]
     },
     "execution_count": 433,
     "metadata": {},
     "output_type": "execute_result"
    }
   ],
   "source": [
    "summed_by_birth_country.describe()"
   ]
  },
  {
   "cell_type": "code",
   "execution_count": 434,
   "id": "fca8efdf-fc36-4200-9c2c-ba0e2a9c6a1a",
   "metadata": {},
   "outputs": [],
   "source": [
    "summed_by_birth_country_10_000 = summed_by_birth_country[summed_by_birth_country.permit_holders_birth >= 13000]"
   ]
  },
  {
   "cell_type": "code",
   "execution_count": 435,
   "id": "deaadeb6-2cb9-4111-a1e1-47ab84192b13",
   "metadata": {},
   "outputs": [
    {
     "data": {
      "image/png": "[encoded data removed]",
      "text/plain": [
       "<Figure size 1200x600 with 1 Axes>"
      ]
     },
     "metadata": {},
     "output_type": "display_data"
    }
   ],
   "source": [
    "summed_by_birth_country_10_000.plot(\n",
    "    kind=\"bar\",\n",
    "    figsize=(12, 6),\n",
    "    x=\"birth_country\",\n",
    ");"
   ]
  },
  {
   "cell_type": "code",
   "execution_count": 436,
   "id": "fee9fa3b-f6c0-43f0-8fa4-26ca61271ac8",
   "metadata": {},
   "outputs": [
    {
     "name": "stdout",
     "output_type": "stream",
     "text": [
      "Afghanistan = 0.9589\n",
      "Albania = 0.3448\n",
      "Algeria = 1.4977\n",
      "Angola = 0.0461\n",
      "Antigua and Barbuda = 0.0092\n",
      "Argentina = 0.247\n",
      "Armenia = 0.0915\n",
      "Aruba = 0.0007\n",
      "Australia = 0.3276\n",
      "Austria = 0.0389\n",
      "Azerbaijan = 0.0858\n",
      "Azores = 0.0042\n",
      "Bahama Islands, The = 0.0163\n",
      "Bahrain = 0.0441\n",
      "Bangladesh = 1.2306\n",
      "Barbados = 0.0459\n",
      "Belarus = 0.1969\n",
      "Belgium = 0.1475\n",
      "Belize = 0.0119\n",
      "Benin, Republic of = 0.0763\n",
      "Bermuda = 0.0121\n",
      "Bhutan = 0.102\n",
      "Bolivia = 0.0447\n",
      "Bosnia-Herzegovina = 0.1153\n",
      "Botswana, Republic of = 0.0197\n",
      "Brazil = 0.6036\n",
      "Brunei = 0.0101\n",
      "Bulgaria = 0.3963\n",
      "Burkina-Faso = 0.0553\n",
      "Burundi = 0.1966\n",
      "Cambodia = 0.1206\n",
      "Cameroon, Federal Republic of = 0.4856\n",
      "Cape Verde Islands = 0.0003\n",
      "Cayman Islands = 0.0027\n",
      "Central African Republic = 0.0226\n",
      "Chad, Republic of = 0.0382\n",
      "Chile = 0.141\n",
      "China, People's Republic of = 12.9856\n",
      "Colombia = 1.6569\n",
      "Comoros = 0.0042\n",
      "Congo, Democratic Republic of the = 0.5734\n",
      "Congo, People's Republic of the = 0.0454\n",
      "Costa Rica = 0.0675\n",
      "Croatia = 0.0865\n",
      "Cuba = 0.4304\n",
      "Cyprus = 0.0119\n",
      "Czech Republic = 0.0827\n",
      "Czechoslovakia = 0.0077\n",
      "Denmark = 0.0317\n",
      "Djibouti, Republic of = 0.0464\n",
      "Dominica = 0.0206\n",
      "Dominican Republic = 0.1676\n",
      "Ecuador = 0.155\n",
      "Egypt = 1.1422\n",
      "El Salvador = 0.2563\n",
      "Equatorial Guinea, Republic of = 0.0008\n",
      "Eritrea = 0.3437\n",
      "Estonia = 0.0164\n",
      "Ethiopia = 0.6292\n",
      "Fiji = 0.1455\n",
      "Finland = 0.0265\n",
      "France = 1.7162\n",
      "French Guiana = 0.0013\n",
      "French Polynesia = 0.0033\n",
      "Gabon Republic = 0.0273\n",
      "Gambia = 0.0112\n",
      "Georgia = 0.0599\n",
      "Germany = 0.725\n",
      "Ghana = 0.2665\n",
      "Gibraltar = 0.0001\n",
      "Greece = 0.0785\n",
      "Grenada = 0.0944\n",
      "Guadeloupe = 0.0105\n",
      "Guam = 0.0001\n",
      "Guatemala = 0.1058\n",
      "Guinea, Republic of = 0.1244\n",
      "Guinea-Bissau = 0.0019\n",
      "Guyana = 0.4432\n",
      "Haiti = 1.1657\n",
      "Honduras = 0.1052\n",
      "Hong Kong = 0.4495\n",
      "Hungary = 0.1839\n",
      "Iceland = 0.0085\n",
      "India = 12.6673\n",
      "Indonesia, Republic of = 0.2439\n",
      "Iran = 3.1624\n",
      "Iraq = 1.305\n",
      "Ireland, Republic of = 0.2571\n",
      "Israel = 0.4147\n",
      "Italy = 0.1747\n",
      "Ivory Coast, Republic of = 0.3146\n",
      "Jamaica = 0.9715\n",
      "Japan = 0.4592\n",
      "Jordan = 0.388\n",
      "Kazakhstan = 0.286\n",
      "Kenya = 0.3036\n",
      "Korea, People's Democratic Republic of = 0.0098\n",
      "Korea, Republic of = 2.3441\n",
      "Kosovo, Republic of = 0.036\n",
      "Kuwait = 0.3036\n",
      "Kyrgyzstan = 0.0856\n",
      "Laos = 0.018\n",
      "Latvia = 0.0553\n",
      "Lebanon = 1.0845\n",
      "Lesotho = 0.0007\n",
      "Liberia = 0.0552\n",
      "Libya = 0.137\n",
      "Lithuania = 0.0532\n",
      "Luxembourg = 0.0049\n",
      "Macau = 0.0153\n",
      "Macedonia = 0.093\n",
      "Madagascar = 0.0522\n",
      "Madeira = 0.0001\n",
      "Malawi = 0.0087\n",
      "Malaysia = 0.2106\n",
      "Maldives, Republic of = 0.0001\n",
      "Mali, Republic of = 0.0503\n",
      "Malta = 0.008\n",
      "Martinique = 0.009\n",
      "Mauritania = 0.0251\n",
      "Mauritius = 0.2737\n",
      "Mexico = 1.1832\n",
      "Moldova = 0.406\n",
      "Monaco = 0.0016\n",
      "Mongolia, People's Republic of = 0.0352\n",
      "Montenegro, Republic of = 0.0031\n",
      "Montserrat = 0.0005\n",
      "Morocco = 1.4768\n",
      "Mozambique = 0.0068\n",
      "Myanmar (Burma) = 0.1495\n",
      "Namibia = 0.0197\n",
      "Nepal = 0.3866\n",
      "Netherlands Antilles, The = 0.003\n",
      "Netherlands, The = 0.2381\n",
      "Nevis = 0.0001\n",
      "New Caledonia = 0.0028\n",
      "New Zealand = 0.1213\n",
      "Nicaragua = 0.0416\n",
      "Niger, Republic of the = 0.0261\n",
      "Nigeria = 1.0553\n",
      "Norway = 0.0257\n",
      "Not stated = 0.0148\n",
      "Oman = 0.0394\n",
      "Other = 0.0182\n",
      "Pakistan = 4.4052\n",
      "Palestinian Authority (Gaza/West Bank) = 0.1354\n",
      "Panama, Republic of = 0.0213\n",
      "Papua New Guinea = 0.0027\n",
      "Paraguay = 0.0307\n",
      "Peru = 0.4189\n",
      "Philippines = 10.2959\n",
      "Poland = 0.4313\n",
      "Portugal = 0.1862\n",
      "Puerto Rico = 0.0059\n",
      "Qatar = 0.0672\n",
      "Reunion = 0.0099\n",
      "Romania = 1.3308\n",
      "Russia = 1.3429\n",
      "Rwanda = 0.1295\n",
      "Samoa, Independent State of = 0.0005\n",
      "Saudi Arabia = 0.4658\n",
      "Senegal = 0.204\n",
      "Serbia and Montenegro = 0.1798\n",
      "Serbia, Republic of = 0.0582\n",
      "Seychelles = 0.0037\n",
      "Sierra Leone = 0.0702\n",
      "Singapore = 0.1664\n",
      "Slovak Republic = 0.1151\n",
      "Slovenia = 0.0093\n",
      "Solomons, The = 0.0002\n",
      "Somalia, Democratic Republic of = 0.4339\n",
      "South Africa, Republic of = 0.517\n",
      "South Sudan, Republic of = 0.0043\n",
      "Spain = 0.0884\n",
      "Sri Lanka = 1.6004\n",
      "St. Kitts-Nevis = 0.0055\n",
      "St. Lucia = 0.0965\n",
      "St. Pierre and Miquelon = 0.0003\n",
      "St. Vincent and the Grenadines = 0.1593\n",
      "Sudan, Democratic Republic of = 0.3899\n",
      "Surinam = 0.0077\n",
      "Swaziland = 0.0061\n",
      "Sweden = 0.0541\n",
      "Switzerland = 0.1291\n",
      "Syria = 1.3512\n",
      "Taiwan = 0.821\n",
      "Tajikistan = 0.0302\n",
      "Tanzania, United Republic of = 0.1256\n",
      "Thailand = 0.2461\n",
      "Tibet = 0.0262\n",
      "Togo, Republic of = 0.0855\n",
      "Tonga = 0.0005\n",
      "Trinidad and Tobago, Republic of = 0.302\n",
      "Tunisia = 0.4132\n",
      "Turkey = 0.5023\n",
      "Turkmenistan = 0.0143\n",
      "Turks and Caicos Islands = 0.0005\n",
      "Uganda = 0.1016\n",
      "Ukraine = 1.1871\n",
      "Union of Soviet Socialist Republics = 0.1683\n",
      "United Arab Emirates = 0.5425\n",
      "United Kingdom and Colonies = 2.2112\n",
      "United States of America = 2.8227\n",
      "Uruguay = 0.0484\n",
      "Uzbekistan = 0.1309\n",
      "Venezuela = 0.4207\n",
      "Vietnam = 0.9002\n",
      "Virgin Islands, U.S. = 0.0007\n",
      "Yemen = 0.0581\n",
      "Yugoslavia = 0.2182\n",
      "Zambia = 0.0424\n",
      "Zimbabwe = 0.2067\n"
     ]
    }
   ],
   "source": [
    "birth_country_dict = {}\n",
    "for birth_country, amount in zip(summed_by_birth_country[\"birth_country\"], summed_by_birth_country[\"permit_holders_birth\"]):\n",
    "    a = amount / total_pr_receivers * 100\n",
    "    birth_country_dict[birth_country] = round(a.iloc[0], 4)\n",
    "    print(f\"{birth_country} = {round(a.iloc[0], 4)}\")"
   ]
  },
  {
   "cell_type": "code",
   "execution_count": 437,
   "id": "045568bb-848a-4b08-9795-796e03566392",
   "metadata": {},
   "outputs": [
    {
     "data": {
      "text/plain": [
       "100.0003"
      ]
     },
     "execution_count": 437,
     "metadata": {},
     "output_type": "execute_result"
    }
   ],
   "source": [
    "total = [i for i in birth_country_dict.values()]\n",
    "sum(total)"
   ]
  },
  {
   "cell_type": "markdown",
   "id": "093c391c-7637-406c-9ced-91edf5a4b16a",
   "metadata": {},
   "source": [
    "## **Citizenship**"
   ]
  },
  {
   "cell_type": "code",
   "execution_count": 438,
   "id": "47cacab5-bc5c-426e-9a0c-550197170287",
   "metadata": {},
   "outputs": [
    {
     "data": {
      "text/html": [
       "<div>\n",
       "<style scoped>\n",
       "    .dataframe tbody tr th:only-of-type {\n",
       "        vertical-align: middle;\n",
       "    }\n",
       "\n",
       "    .dataframe tbody tr th {\n",
       "        vertical-align: top;\n",
       "    }\n",
       "\n",
       "    .dataframe thead th {\n",
       "        text-align: right;\n",
       "    }\n",
       "</style>\n",
       "<table border=\"1\" class=\"dataframe\">\n",
       "  <thead>\n",
       "    <tr style=\"text-align: right;\">\n",
       "      <th></th>\n",
       "      <th>permit_holders_citiz</th>\n",
       "      <th>landing_year</th>\n",
       "      <th>citizenship_country</th>\n",
       "    </tr>\n",
       "  </thead>\n",
       "  <tbody>\n",
       "    <tr>\n",
       "      <th>594</th>\n",
       "      <td>345.0</td>\n",
       "      <td>2003</td>\n",
       "      <td>Chile</td>\n",
       "    </tr>\n",
       "    <tr>\n",
       "      <th>1294</th>\n",
       "      <td>1630.0</td>\n",
       "      <td>2006</td>\n",
       "      <td>Turkey</td>\n",
       "    </tr>\n",
       "    <tr>\n",
       "      <th>1713</th>\n",
       "      <td>785.0</td>\n",
       "      <td>2009</td>\n",
       "      <td>Bulgaria</td>\n",
       "    </tr>\n",
       "  </tbody>\n",
       "</table>\n",
       "</div>"
      ],
      "text/plain": [
       "      permit_holders_citiz  landing_year citizenship_country\n",
       "594                  345.0          2003               Chile\n",
       "1294                1630.0          2006              Turkey\n",
       "1713                 785.0          2009            Bulgaria"
      ]
     },
     "execution_count": 438,
     "metadata": {},
     "output_type": "execute_result"
    }
   ],
   "source": [
    "datasets[\"raw_data_citizenship\"].sample(3)"
   ]
  },
  {
   "cell_type": "code",
   "execution_count": null,
   "id": "99e2b989-5afb-49bc-b36d-7dc135f68745",
   "metadata": {},
   "outputs": [],
   "source": []
  },
  {
   "cell_type": "code",
   "execution_count": 439,
   "id": "ea1462a3-7056-46f6-95a2-bce13ad104fe",
   "metadata": {},
   "outputs": [
    {
     "name": "stdout",
     "output_type": "stream",
     "text": [
      "Afghanistan = 1.0682\n",
      "Albania = 0.3435\n",
      "Algeria = 1.4992\n",
      "Angola = 0.0435\n",
      "Antigua and Barbuda = 0.012\n",
      "Argentina = 0.2537\n",
      "Armenia = 0.0831\n",
      "Australia = 0.3986\n",
      "Austria = 0.0417\n",
      "Azerbaijan = 0.0628\n",
      "Bahama Islands, The = 0.0136\n",
      "Bahrain = 0.0087\n",
      "Bangladesh = 1.2454\n",
      "Barbados = 0.0468\n",
      "Belarus = 0.1626\n",
      "Belgium = 0.1434\n",
      "Belize = 0.0145\n",
      "Benin, Republic of = 0.0783\n",
      "Bhutan = 0.1563\n",
      "Bolivia = 0.0413\n",
      "Bosnia-Herzegovina = 0.106\n",
      "Botswana, Republic of = 0.0135\n",
      "Brazil = 0.5965\n",
      "Brunei = 0.0017\n",
      "Bulgaria = 0.3887\n",
      "Burkina-Faso = 0.0626\n",
      "Burundi = 0.2121\n",
      "Cambodia = 0.114\n",
      "Cameroon, Federal Republic of = 0.4884\n",
      "Cape Verde Islands = 0.0009\n",
      "Central African Republic = 0.0269\n",
      "Chad, Republic of = 0.0379\n",
      "Chile = 0.1356\n",
      "China, People's Republic of = 12.5252\n",
      "Colombia = 1.6377\n",
      "Comoros = 0.0041\n",
      "Congo, Democratic Republic of the = 0.6078\n",
      "Congo, People's Republic of the = 0.0415\n",
      "Costa Rica = 0.0674\n",
      "Croatia = 0.097\n",
      "Cuba = 0.4233\n",
      "Cyprus = 0.0051\n",
      "Czech Republic = 0.0834\n",
      "Denmark = 0.0339\n",
      "Djibouti, Republic of = 0.0437\n",
      "Dominica = 0.0216\n",
      "Dominican Republic = 0.1615\n",
      "Ecuador = 0.1476\n",
      "Egypt = 1.2859\n",
      "El Salvador = 0.2528\n",
      "Equatorial Guinea, Republic of = 0.0006\n",
      "Eritrea = 0.4381\n",
      "Estonia = 0.0141\n",
      "Ethiopia = 0.6\n",
      "Fiji = 0.1436\n",
      "Finland = 0.0266\n",
      "France = 1.8371\n",
      "Gabon Republic = 0.0237\n",
      "Gambia = 0.0105\n",
      "Georgia = 0.0476\n",
      "Germany = 0.8206\n",
      "Ghana = 0.2571\n",
      "Greece = 0.0715\n",
      "Grenada = 0.0974\n",
      "Guatemala = 0.1039\n",
      "Guinea, Republic of = 0.1244\n",
      "Guinea-Bissau = 0.0008\n",
      "Guyana = 0.4255\n",
      "Haiti = 1.1528\n",
      "Honduras = 0.105\n",
      "Hong Kong = 0.2574\n",
      "Hungary = 0.1884\n",
      "Iceland = 0.0094\n",
      "India = 12.7477\n",
      "Indonesia, Republic of = 0.2331\n",
      "Iran = 3.1357\n",
      "Iraq = 1.3507\n",
      "Ireland, Republic of = 0.2725\n",
      "Israel = 0.9362\n",
      "Italy = 0.1834\n",
      "Ivory Coast, Republic of = 0.2804\n",
      "Jamaica = 0.9742\n",
      "Japan = 0.4309\n",
      "Jordan = 0.5915\n",
      "Kazakhstan = 0.1681\n",
      "Kenya = 0.2248\n",
      "Korea, People's Democratic Republic of = 0.0087\n",
      "Korea, Republic of = 2.3462\n",
      "Kosovo, Republic of = 0.0336\n",
      "Kuwait = 0.0254\n",
      "Kyrgyzstan = 0.0619\n",
      "Laos = 0.0142\n",
      "Latvia = 0.0483\n",
      "Lebanon = 1.107\n",
      "Lesotho = 0.0007\n",
      "Liberia = 0.0633\n",
      "Libya = 0.1025\n",
      "Lithuania = 0.0514\n",
      "Luxembourg = 0.0031\n",
      "Macau = 0.0084\n",
      "Macedonia = 0.0962\n",
      "Madagascar = 0.0456\n",
      "Malawi = 0.0055\n",
      "Malaysia = 0.1863\n",
      "Maldives, Republic of = 0.0001\n",
      "Mali, Republic of = 0.0537\n",
      "Malta = 0.0063\n",
      "Mauritania = 0.027\n",
      "Mauritius = 0.2751\n",
      "Mexico = 1.2009\n",
      "Moldova = 0.3921\n",
      "Mongolia, People's Republic of = 0.0275\n",
      "Montenegro, Republic of = 0.0036\n",
      "Morocco = 1.4712\n",
      "Mozambique = 0.0017\n",
      "Myanmar (Burma) = 0.2026\n",
      "Namibia = 0.0131\n",
      "Nepal = 0.3\n",
      "Netherlands, The = 0.2624\n",
      "New Zealand = 0.1526\n",
      "Nicaragua = 0.0388\n",
      "Niger, Republic of the = 0.0252\n",
      "Nigeria = 1.0816\n",
      "Norway = 0.025\n",
      "Not stated = 0.0707\n",
      "Oman = 0.004\n",
      "Other Countries = 0.3448\n",
      "Pakistan = 4.6034\n",
      "Palestinian Authority (Gaza/West Bank) = 0.1765\n",
      "Panama, Republic of = 0.021\n",
      "Papua New Guinea = 0.0005\n",
      "Paraguay = 0.0268\n",
      "Peru = 0.4131\n",
      "Philippines = 10.3697\n",
      "Poland = 0.4555\n",
      "Portugal = 0.2129\n",
      "Qatar = 0.0024\n",
      "Romania = 1.3151\n",
      "Russia = 1.1814\n",
      "Rwanda = 0.1475\n",
      "Samoa, Independent State of = 0.0002\n",
      "Saudi Arabia = 0.0782\n",
      "Senegal = 0.1959\n",
      "Serbia, Republic of = 0.075\n",
      "Seychelles = 0.0036\n",
      "Sierra Leone = 0.0694\n",
      "Singapore = 0.156\n",
      "Slovak Republic = 0.1162\n",
      "Slovenia = 0.0091\n",
      "Soloman Islands = 0.0002\n",
      "Solomons, The = 0.001\n",
      "Somalia, Democratic Republic of = 0.5133\n",
      "South Africa, Republic of = 0.4875\n",
      "South Sudan, Republic of = 0.005\n",
      "Spain = 0.094\n",
      "Sri Lanka = 1.6078\n",
      "St. Kitts-Nevis = 0.0061\n",
      "St. Lucia = 0.0985\n",
      "St. Vincent and the Grenadines = 0.1637\n",
      "Stateless = 0.3689\n",
      "Sudan, Democratic Republic of = 0.3378\n",
      "Surinam = 0.0052\n",
      "Swaziland = 0.0047\n",
      "Sweden = 0.0633\n",
      "Switzerland = 0.1162\n",
      "Syria = 1.4265\n",
      "Taiwan = 0.8397\n",
      "Tajikistan = 0.0132\n",
      "Tanzania, United Republic of = 0.0881\n",
      "Thailand = 0.179\n",
      "Togo, Republic of = 0.0886\n",
      "Tonga = 0.0009\n",
      "Trinidad and Tobago, Republic of = 0.2924\n",
      "Tunisia = 0.4216\n",
      "Turkey = 0.4949\n",
      "Turkmenistan = 0.0072\n",
      "Uganda = 0.0679\n",
      "Ukraine = 1.0495\n",
      "United Arab Emirates = 0.0161\n",
      "United Kingdom and Colonies = 2.9652\n",
      "United States of America = 3.0718\n",
      "Uruguay = 0.0394\n",
      "Uzbekistan = 0.081\n",
      "Venezuela = 0.4209\n",
      "Vietnam = 0.8461\n",
      "Yemen = 0.0607\n",
      "Zambia = 0.0247\n",
      "Zimbabwe = 0.1867\n"
     ]
    }
   ],
   "source": [
    "citizenship_dataset = datasets[\"raw_data_citizenship\"].drop(columns=\"landing_year\")\n",
    "citizenship_dataset.dropna(inplace=True)\n",
    "\n",
    "total_pr_receivers = citizenship_dataset.groupby(\"citizenship_country\").sum().sum()\n",
    "\n",
    "summed_by_citizenship = pd.DataFrame(citizenship_dataset.groupby(\"citizenship_country\").sum()).reset_index()\n",
    "\n",
    "citizenship_dict = {}\n",
    "for citizenship, amount in zip(\n",
    "            summed_by_citizenship[\"citizenship_country\"], summed_by_citizenship[\"permit_holders_citiz\"]\n",
    "            ):\n",
    "    a = amount / total_pr_receivers * 100\n",
    "    citizenship_dict[citizenship] = round(a.iloc[0], 4)\n",
    "    print(f\"{citizenship} = {round(a.iloc[0], 4)}\")"
   ]
  },
  {
   "cell_type": "code",
   "execution_count": 440,
   "id": "d396a4c6-b389-44a1-a0a1-a7ff26ed0b1c",
   "metadata": {},
   "outputs": [],
   "source": [
    "citizenship_10_000 = summed_by_citizenship[summed_by_citizenship.permit_holders_citiz >= 10000]"
   ]
  },
  {
   "cell_type": "code",
   "execution_count": 441,
   "id": "933f62fd-fef9-4d38-9fd1-d90f3a5b5624",
   "metadata": {},
   "outputs": [
    {
     "data": {
      "image/png": "[encoded data removed]",
      "text/plain": [
       "<Figure size 1200x600 with 1 Axes>"
      ]
     },
     "metadata": {},
     "output_type": "display_data"
    }
   ],
   "source": [
    "citizenship_10_000.plot(\n",
    "    kind=\"bar\",\n",
    "    figsize=(12, 6),\n",
    "    x=\"citizenship_country\",\n",
    ");"
   ]
  },
  {
   "cell_type": "code",
   "execution_count": null,
   "id": "dd6b2c99-b052-4e3d-b28a-9434f0d05158",
   "metadata": {},
   "outputs": [],
   "source": []
  },
  {
   "cell_type": "code",
   "execution_count": null,
   "id": "c7fb8231-6277-4c9f-90e0-c38050df42da",
   "metadata": {},
   "outputs": [],
   "source": []
  },
  {
   "cell_type": "code",
   "execution_count": null,
   "id": "7af16e4d-229f-4647-8650-f726f35a8058",
   "metadata": {},
   "outputs": [],
   "source": []
  },
  {
   "cell_type": "code",
   "execution_count": null,
   "id": "def49b3b-3e9e-44a8-b9fc-aa77c007f5da",
   "metadata": {},
   "outputs": [],
   "source": []
  },
  {
   "cell_type": "code",
   "execution_count": null,
   "id": "650ba9b3-bc6b-48ff-8582-ee32d9cad0d3",
   "metadata": {},
   "outputs": [],
   "source": []
  },
  {
   "cell_type": "markdown",
   "id": "0607f071-944f-4a7f-b2fc-c8972b47ef8d",
   "metadata": {},
   "source": [
    "## **Education**"
   ]
  },
  {
   "cell_type": "code",
   "execution_count": 442,
   "id": "1ec2d92d-394d-4050-9376-055d7609299c",
   "metadata": {},
   "outputs": [],
   "source": [
    "education_df = datasets[\"raw_data_education\"].drop(columns=\"landing_year\")\n",
    "# education_df = datasets[\"raw_data_education\"]"
   ]
  },
  {
   "cell_type": "code",
   "execution_count": 443,
   "id": "bf21c10a-9528-4ee2-8e3f-8a85ab6b3077",
   "metadata": {},
   "outputs": [
    {
     "data": {
      "text/html": [
       "<div>\n",
       "<style scoped>\n",
       "    .dataframe tbody tr th:only-of-type {\n",
       "        vertical-align: middle;\n",
       "    }\n",
       "\n",
       "    .dataframe tbody tr th {\n",
       "        vertical-align: top;\n",
       "    }\n",
       "\n",
       "    .dataframe thead th {\n",
       "        text-align: right;\n",
       "    }\n",
       "</style>\n",
       "<table border=\"1\" class=\"dataframe\">\n",
       "  <thead>\n",
       "    <tr style=\"text-align: right;\">\n",
       "      <th></th>\n",
       "      <th>persons_count_educa</th>\n",
       "      <th>education_qualification_eng_desc</th>\n",
       "    </tr>\n",
       "  </thead>\n",
       "  <tbody>\n",
       "    <tr>\n",
       "      <th>20</th>\n",
       "      <td>3160.0</td>\n",
       "      <td>Doctorate</td>\n",
       "    </tr>\n",
       "    <tr>\n",
       "      <th>142</th>\n",
       "      <td>11115.0</td>\n",
       "      <td>Formal Trade Cert. or Apprenticeship</td>\n",
       "    </tr>\n",
       "    <tr>\n",
       "      <th>102</th>\n",
       "      <td>3665.0</td>\n",
       "      <td>Doctorate</td>\n",
       "    </tr>\n",
       "  </tbody>\n",
       "</table>\n",
       "</div>"
      ],
      "text/plain": [
       "     persons_count_educa      education_qualification_eng_desc\n",
       "20                3160.0                             Doctorate\n",
       "142              11115.0  Formal Trade Cert. or Apprenticeship\n",
       "102               3665.0                             Doctorate"
      ]
     },
     "execution_count": 443,
     "metadata": {},
     "output_type": "execute_result"
    }
   ],
   "source": [
    "education_df.sample(3)"
   ]
  },
  {
   "cell_type": "code",
   "execution_count": 444,
   "id": "22186aff-456d-4864-838c-c025c28a7968",
   "metadata": {},
   "outputs": [
    {
     "name": "stdout",
     "output_type": "stream",
     "text": [
      "<class 'pandas.core.frame.DataFrame'>\n",
      "RangeIndex: 160 entries, 0 to 159\n",
      "Data columns (total 2 columns):\n",
      " #   Column                            Non-Null Count  Dtype  \n",
      "---  ------                            --------------  -----  \n",
      " 0   persons_count_educa               155 non-null    float64\n",
      " 1   education_qualification_eng_desc  143 non-null    object \n",
      "dtypes: float64(1), object(1)\n",
      "memory usage: 2.6+ KB\n"
     ]
    }
   ],
   "source": [
    "education_df.info()"
   ]
  },
  {
   "cell_type": "code",
   "execution_count": 445,
   "id": "20931c49-1a94-4537-9770-4a9d9e5bc536",
   "metadata": {},
   "outputs": [
    {
     "data": {
      "text/plain": [
       "(766705.0, 4288980.0)"
      ]
     },
     "execution_count": 445,
     "metadata": {},
     "output_type": "execute_result"
    }
   ],
   "source": [
    "nan_rows_df = education_df[education_df['education_qualification_eng_desc'].isna()]\n",
    "nan_rows_df[\"persons_count_educa\"].sum(), education_df[\"persons_count_educa\"].sum()"
   ]
  },
  {
   "cell_type": "code",
   "execution_count": 446,
   "id": "baf9ed8f-2507-4db2-814c-e99634aafc7c",
   "metadata": {},
   "outputs": [
    {
     "data": {
      "text/plain": [
       "array([\"Bachelor's Degree\", 'Doctorate',\n",
       "       'Formal Trade Cert. or Apprenticeship', \"Master's Degree\",\n",
       "       'Non-University Certificate or Diploma', nan, 'Not stated',\n",
       "       'Secondary or Less', 'Some Post-Grad. Education - No Degree',\n",
       "       'Some University - No Degree'], dtype=object)"
      ]
     },
     "execution_count": 446,
     "metadata": {},
     "output_type": "execute_result"
    }
   ],
   "source": [
    "education_df[\"education_qualification_eng_desc\"].unique()"
   ]
  },
  {
   "cell_type": "code",
   "execution_count": 447,
   "id": "71673354-534e-4f33-90b3-f385f065f709",
   "metadata": {},
   "outputs": [
    {
     "name": "stdout",
     "output_type": "stream",
     "text": [
      "Bachelor's Degree = 27.6252\n",
      "Doctorate = 1.8065\n",
      "Formal Trade Cert. or Apprenticeship = 4.8869\n",
      "Master's Degree = 11.0913\n",
      "Non-University Certificate or Diploma = 9.5086\n",
      "Not stated = 1.2763\n",
      "Secondary or Less = 37.9532\n",
      "Some Post-Grad. Education - No Degree = 1.3836\n",
      "Some University - No Degree = 4.4684\n"
     ]
    }
   ],
   "source": [
    "education_dataset = datasets[\"raw_data_education\"].drop(columns=\"landing_year\")\n",
    "education_dataset.dropna(inplace=True)\n",
    "\n",
    "total_pr_receivers = education_dataset.groupby(\"education_qualification_eng_desc\").sum().sum()\n",
    "\n",
    "summed_by_education = pd.DataFrame(education_dataset.groupby(\"education_qualification_eng_desc\").sum()).reset_index()\n",
    "\n",
    "education_dict = {}\n",
    "for education, amount in zip(\n",
    "            summed_by_education[\"education_qualification_eng_desc\"], summed_by_education[\"persons_count_educa\"]\n",
    "            ):\n",
    "    a = amount / total_pr_receivers * 100\n",
    "    education_dict[education] = round(a.iloc[0], 4)\n",
    "    print(f\"{education} = {round(a.iloc[0], 4)}\")"
   ]
  },
  {
   "cell_type": "code",
   "execution_count": 448,
   "id": "039f5b4f-78e5-4d37-84eb-70dbfb098814",
   "metadata": {},
   "outputs": [
    {
     "data": {
      "text/plain": [
       "100.0"
      ]
     },
     "execution_count": 448,
     "metadata": {},
     "output_type": "execute_result"
    }
   ],
   "source": [
    "total = [i for i in education_dict.values()]\n",
    "sum(total)"
   ]
  },
  {
   "cell_type": "code",
   "execution_count": null,
   "id": "4b18b843-621b-4415-9f19-86df18833833",
   "metadata": {},
   "outputs": [],
   "source": []
  },
  {
   "cell_type": "code",
   "execution_count": null,
   "id": "007b4810-d2fc-49d6-a223-ac0c0a7f5a1d",
   "metadata": {},
   "outputs": [],
   "source": []
  },
  {
   "cell_type": "code",
   "execution_count": null,
   "id": "387f8ee7-af0c-4614-9edf-1f680fcf066d",
   "metadata": {},
   "outputs": [],
   "source": []
  },
  {
   "cell_type": "markdown",
   "id": "3abceb2b-6d03-433d-9a14-8163b4575c82",
   "metadata": {},
   "source": [
    "## **Gender**"
   ]
  },
  {
   "cell_type": "code",
   "execution_count": 449,
   "id": "8ea02087-f822-422a-9698-d4d795659b45",
   "metadata": {},
   "outputs": [
    {
     "data": {
      "text/html": [
       "<div>\n",
       "<style scoped>\n",
       "    .dataframe tbody tr th:only-of-type {\n",
       "        vertical-align: middle;\n",
       "    }\n",
       "\n",
       "    .dataframe tbody tr th {\n",
       "        vertical-align: top;\n",
       "    }\n",
       "\n",
       "    .dataframe thead th {\n",
       "        text-align: right;\n",
       "    }\n",
       "</style>\n",
       "<table border=\"1\" class=\"dataframe\">\n",
       "  <thead>\n",
       "    <tr style=\"text-align: right;\">\n",
       "      <th></th>\n",
       "      <th>persons_count_gende</th>\n",
       "      <th>landing_year</th>\n",
       "      <th>gender_eng_desc</th>\n",
       "    </tr>\n",
       "  </thead>\n",
       "  <tbody>\n",
       "    <tr>\n",
       "      <th>13</th>\n",
       "      <td>114160.0</td>\n",
       "      <td>2004</td>\n",
       "      <td>Male</td>\n",
       "    </tr>\n",
       "    <tr>\n",
       "      <th>44</th>\n",
       "      <td>139295.0</td>\n",
       "      <td>2015</td>\n",
       "      <td>Female</td>\n",
       "    </tr>\n",
       "    <tr>\n",
       "      <th>1</th>\n",
       "      <td>112345.0</td>\n",
       "      <td>2000</td>\n",
       "      <td>Male</td>\n",
       "    </tr>\n",
       "  </tbody>\n",
       "</table>\n",
       "</div>"
      ],
      "text/plain": [
       "    persons_count_gende  landing_year gender_eng_desc\n",
       "13             114160.0          2004            Male\n",
       "44             139295.0          2015          Female\n",
       "1              112345.0          2000            Male"
      ]
     },
     "execution_count": 449,
     "metadata": {},
     "output_type": "execute_result"
    }
   ],
   "source": [
    "datasets[\"raw_data_gender\"].sample(3)"
   ]
  },
  {
   "cell_type": "code",
   "execution_count": null,
   "id": "f18cc713-6f6b-409c-80c6-acfbea3c76f6",
   "metadata": {},
   "outputs": [],
   "source": []
  },
  {
   "cell_type": "code",
   "execution_count": null,
   "id": "93eba74d-deb8-4c7b-a5bf-0da9b64c7225",
   "metadata": {},
   "outputs": [],
   "source": []
  },
  {
   "cell_type": "code",
   "execution_count": null,
   "id": "9fd969ad-e529-476d-b2e7-0a550dfeb4a1",
   "metadata": {},
   "outputs": [],
   "source": []
  },
  {
   "cell_type": "markdown",
   "id": "b944326c-a0aa-4fa2-abb4-c4a9ff01e950",
   "metadata": {},
   "source": [
    "## **Legal status**"
   ]
  },
  {
   "cell_type": "code",
   "execution_count": 450,
   "id": "32b853b9-ae90-4494-9a0a-ff49b114d8c8",
   "metadata": {},
   "outputs": [],
   "source": [
    "legal_status = datasets[\"raw_data_legal_status\"]"
   ]
  },
  {
   "cell_type": "code",
   "execution_count": 451,
   "id": "45aeb912-439a-482c-836f-3da26355832c",
   "metadata": {},
   "outputs": [
    {
     "data": {
      "text/html": [
       "<div>\n",
       "<style scoped>\n",
       "    .dataframe tbody tr th:only-of-type {\n",
       "        vertical-align: middle;\n",
       "    }\n",
       "\n",
       "    .dataframe tbody tr th {\n",
       "        vertical-align: top;\n",
       "    }\n",
       "\n",
       "    .dataframe thead th {\n",
       "        text-align: right;\n",
       "    }\n",
       "</style>\n",
       "<table border=\"1\" class=\"dataframe\">\n",
       "  <thead>\n",
       "    <tr style=\"text-align: right;\">\n",
       "      <th></th>\n",
       "      <th>persons_count_main_</th>\n",
       "      <th>landing_year</th>\n",
       "      <th>main_category_eng_desc</th>\n",
       "      <th>group_eng_desc</th>\n",
       "      <th>component_eng_description</th>\n",
       "    </tr>\n",
       "  </thead>\n",
       "  <tbody>\n",
       "    <tr>\n",
       "      <th>113</th>\n",
       "      <td>610.0</td>\n",
       "      <td>2005</td>\n",
       "      <td>Sponsored Family</td>\n",
       "      <td>Sponsored Family</td>\n",
       "      <td>Sponsored Family Member - H&amp;C Consideration</td>\n",
       "    </tr>\n",
       "    <tr>\n",
       "      <th>29</th>\n",
       "      <td>3570.0</td>\n",
       "      <td>2001</td>\n",
       "      <td>Resettled Refugee &amp; Protected Person in Canada</td>\n",
       "      <td>Resettled Refugee</td>\n",
       "      <td>Privately Sponsored Refugee</td>\n",
       "    </tr>\n",
       "    <tr>\n",
       "      <th>215</th>\n",
       "      <td>15335.0</td>\n",
       "      <td>2010</td>\n",
       "      <td>Sponsored Family</td>\n",
       "      <td>Sponsored Family</td>\n",
       "      <td>Sponsored Parent or Grandparent</td>\n",
       "    </tr>\n",
       "  </tbody>\n",
       "</table>\n",
       "</div>"
      ],
      "text/plain": [
       "     persons_count_main_  landing_year  \\\n",
       "113                610.0          2005   \n",
       "29                3570.0          2001   \n",
       "215              15335.0          2010   \n",
       "\n",
       "                             main_category_eng_desc     group_eng_desc  \\\n",
       "113                                Sponsored Family   Sponsored Family   \n",
       "29   Resettled Refugee & Protected Person in Canada  Resettled Refugee   \n",
       "215                                Sponsored Family   Sponsored Family   \n",
       "\n",
       "                       component_eng_description  \n",
       "113  Sponsored Family Member - H&C Consideration  \n",
       "29                   Privately Sponsored Refugee  \n",
       "215              Sponsored Parent or Grandparent  "
      ]
     },
     "execution_count": 451,
     "metadata": {},
     "output_type": "execute_result"
    }
   ],
   "source": [
    "legal_status.sample(3)"
   ]
  },
  {
   "cell_type": "code",
   "execution_count": 452,
   "id": "2af84c20-92b6-44f0-abaf-7e00dbd0152a",
   "metadata": {},
   "outputs": [
    {
     "name": "stdout",
     "output_type": "stream",
     "text": [
      "<class 'pandas.core.frame.DataFrame'>\n",
      "RangeIndex: 347 entries, 0 to 346\n",
      "Data columns (total 5 columns):\n",
      " #   Column                     Non-Null Count  Dtype  \n",
      "---  ------                     --------------  -----  \n",
      " 0   persons_count_main_        325 non-null    float64\n",
      " 1   landing_year               347 non-null    int64  \n",
      " 2   main_category_eng_desc     347 non-null    object \n",
      " 3   group_eng_desc             347 non-null    object \n",
      " 4   component_eng_description  347 non-null    object \n",
      "dtypes: float64(1), int64(1), object(3)\n",
      "memory usage: 13.7+ KB\n"
     ]
    }
   ],
   "source": [
    "legal_status.info()"
   ]
  },
  {
   "cell_type": "code",
   "execution_count": 453,
   "id": "6adcc715-73aa-41f7-ac7b-5912796a6303",
   "metadata": {},
   "outputs": [
    {
     "data": {
      "text/plain": [
       "array(['All Other Immigration', 'Economic',\n",
       "       'Resettled Refugee & Protected Person in Canada',\n",
       "       'Sponsored Family'], dtype=object)"
      ]
     },
     "execution_count": 453,
     "metadata": {},
     "output_type": "execute_result"
    }
   ],
   "source": [
    "legal_status[\"main_category_eng_desc\"].unique()"
   ]
  },
  {
   "cell_type": "code",
   "execution_count": 454,
   "id": "3a90c5c5-498e-4de3-84e4-09c204752f06",
   "metadata": {},
   "outputs": [
    {
     "data": {
      "text/plain": [
       "array(['Other Immigrants not included elsewhere', 'Business',\n",
       "       'Provincial Nominee Program', 'Worker Program',\n",
       "       'Protected Person in Canada', 'Resettled Refugee',\n",
       "       'Sponsored Family', 'Humanitarian & Compassionate',\n",
       "       'Public Policy'], dtype=object)"
      ]
     },
     "execution_count": 454,
     "metadata": {},
     "output_type": "execute_result"
    }
   ],
   "source": [
    "legal_status[\"group_eng_desc\"].unique()"
   ]
  },
  {
   "cell_type": "code",
   "execution_count": 455,
   "id": "0887edf3-1b3b-4f37-aafd-470496ad2df9",
   "metadata": {},
   "outputs": [
    {
     "data": {
      "text/plain": [
       "array(['Deferred Removal Order Class',\n",
       "       'Designated Class Backlog Clearance', 'Entrepreneur', 'Investor',\n",
       "       'Self-Employed', 'Provincial Nominee Program', 'Caregiver',\n",
       "       'Skilled Worker', 'Dependant of protected person',\n",
       "       'Post-determination Refugee Claimant', 'Protected Person',\n",
       "       'Government-Assisted Refugee', 'Privately Sponsored Refugee',\n",
       "       'Sponsored Children', 'Sponsored Extended Family Member',\n",
       "       'Sponsored Parent or Grandparent', 'Sponsored Spouse or Partner',\n",
       "       'Humanitarian & Compassionate', 'Permit Holder Class', 'Retired',\n",
       "       'Sponsored Family Member - H&C Consideration', 'Public Policy',\n",
       "       'Canadian Experience', 'Skilled Trade',\n",
       "       'Blended Sponsorship Refugee', 'Start-up Business',\n",
       "       'Express Entry'], dtype=object)"
      ]
     },
     "execution_count": 455,
     "metadata": {},
     "output_type": "execute_result"
    }
   ],
   "source": [
    "legal_status[\"component_eng_description\"].unique()"
   ]
  },
  {
   "cell_type": "code",
   "execution_count": 456,
   "id": "84ac780f-a324-44e6-bf23-3761d12cd20d",
   "metadata": {},
   "outputs": [
    {
     "data": {
      "text/plain": [
       "persons_count_main_          22\n",
       "landing_year                  0\n",
       "main_category_eng_desc        0\n",
       "group_eng_desc                0\n",
       "component_eng_description     0\n",
       "dtype: int64"
      ]
     },
     "execution_count": 456,
     "metadata": {},
     "output_type": "execute_result"
    }
   ],
   "source": [
    "legal_status.isna().sum()"
   ]
  },
  {
   "cell_type": "code",
   "execution_count": 457,
   "id": "04eb7a7d-18e8-454c-b0ee-4eba423b99b6",
   "metadata": {},
   "outputs": [],
   "source": [
    "legal_status.dropna(inplace=True)"
   ]
  },
  {
   "cell_type": "code",
   "execution_count": 458,
   "id": "e33bbbce-9bd3-4e87-8970-4a3a286e86bb",
   "metadata": {},
   "outputs": [
    {
     "data": {
      "text/plain": [
       "persons_count_main_          0\n",
       "landing_year                 0\n",
       "main_category_eng_desc       0\n",
       "group_eng_desc               0\n",
       "component_eng_description    0\n",
       "dtype: int64"
      ]
     },
     "execution_count": 458,
     "metadata": {},
     "output_type": "execute_result"
    }
   ],
   "source": [
    "legal_status.isna().sum()"
   ]
  },
  {
   "cell_type": "code",
   "execution_count": 459,
   "id": "a1d31933-ced9-4c05-9861-c0212632ad6e",
   "metadata": {},
   "outputs": [
    {
     "name": "stdout",
     "output_type": "stream",
     "text": [
      "<class 'pandas.core.frame.DataFrame'>\n",
      "Index: 325 entries, 0 to 346\n",
      "Data columns (total 5 columns):\n",
      " #   Column                     Non-Null Count  Dtype  \n",
      "---  ------                     --------------  -----  \n",
      " 0   persons_count_main_        325 non-null    float64\n",
      " 1   landing_year               325 non-null    int64  \n",
      " 2   main_category_eng_desc     325 non-null    object \n",
      " 3   group_eng_desc             325 non-null    object \n",
      " 4   component_eng_description  325 non-null    object \n",
      "dtypes: float64(1), int64(1), object(3)\n",
      "memory usage: 15.2+ KB\n"
     ]
    }
   ],
   "source": [
    "legal_status.info()"
   ]
  },
  {
   "cell_type": "code",
   "execution_count": 460,
   "id": "ca264969-a61c-4fa8-a197-45fc5e86b10f",
   "metadata": {},
   "outputs": [
    {
     "name": "stderr",
     "output_type": "stream",
     "text": [
      "/tmp/ipykernel_40689/1136339921.py:1: FutureWarning: Series.__getitem__ treating keys as positions is deprecated. In a future version, integer keys will always be treated as labels (consistent with DataFrame behavior). To access a value by position, use `ser.iloc[pos]`\n",
      "  total_pr_receivers = legal_status.groupby(\"component_eng_description\").sum().sum()[0]\n"
     ]
    }
   ],
   "source": [
    "total_pr_receivers = legal_status.groupby(\"component_eng_description\").sum().sum()[0]"
   ]
  },
  {
   "cell_type": "code",
   "execution_count": 461,
   "id": "1012dc3d-3933-4068-81ea-06cbf338f609",
   "metadata": {},
   "outputs": [
    {
     "data": {
      "text/plain": [
       "4288935.0"
      ]
     },
     "execution_count": 461,
     "metadata": {},
     "output_type": "execute_result"
    }
   ],
   "source": [
    "total_pr_receivers"
   ]
  },
  {
   "cell_type": "code",
   "execution_count": null,
   "id": "3a789b9d-0ed0-4d04-9471-0e40731c4bc5",
   "metadata": {},
   "outputs": [],
   "source": []
  },
  {
   "cell_type": "code",
   "execution_count": null,
   "id": "b0510edd-86c0-49e8-8806-7b0bd0152299",
   "metadata": {},
   "outputs": [],
   "source": []
  },
  {
   "cell_type": "code",
   "execution_count": null,
   "id": "034e8a38-fe60-440c-9f97-f59951b98dff",
   "metadata": {},
   "outputs": [],
   "source": []
  },
  {
   "cell_type": "markdown",
   "id": "cb23e7d8-60ac-438b-b970-32061d27864e",
   "metadata": {},
   "source": [
    "## **Marital status**"
   ]
  },
  {
   "cell_type": "code",
   "execution_count": 462,
   "id": "9bad32c6-8601-468b-aa0b-9e3701b5690a",
   "metadata": {},
   "outputs": [
    {
     "data": {
      "text/html": [
       "<div>\n",
       "<style scoped>\n",
       "    .dataframe tbody tr th:only-of-type {\n",
       "        vertical-align: middle;\n",
       "    }\n",
       "\n",
       "    .dataframe tbody tr th {\n",
       "        vertical-align: top;\n",
       "    }\n",
       "\n",
       "    .dataframe thead th {\n",
       "        text-align: right;\n",
       "    }\n",
       "</style>\n",
       "<table border=\"1\" class=\"dataframe\">\n",
       "  <thead>\n",
       "    <tr style=\"text-align: right;\">\n",
       "      <th></th>\n",
       "      <th>persons_count_marit</th>\n",
       "      <th>landing_year</th>\n",
       "      <th>marital_status_eng_desc</th>\n",
       "    </tr>\n",
       "  </thead>\n",
       "  <tbody>\n",
       "    <tr>\n",
       "      <th>88</th>\n",
       "      <td>45.0</td>\n",
       "      <td>2012</td>\n",
       "      <td>Annulled Marriage</td>\n",
       "    </tr>\n",
       "    <tr>\n",
       "      <th>46</th>\n",
       "      <td>1145.0</td>\n",
       "      <td>2006</td>\n",
       "      <td>Separated</td>\n",
       "    </tr>\n",
       "    <tr>\n",
       "      <th>90</th>\n",
       "      <td>3120.0</td>\n",
       "      <td>2012</td>\n",
       "      <td>Divorced</td>\n",
       "    </tr>\n",
       "    <tr>\n",
       "      <th>47</th>\n",
       "      <td>107865.0</td>\n",
       "      <td>2006</td>\n",
       "      <td>Single</td>\n",
       "    </tr>\n",
       "    <tr>\n",
       "      <th>39</th>\n",
       "      <td>1145.0</td>\n",
       "      <td>2005</td>\n",
       "      <td>Separated</td>\n",
       "    </tr>\n",
       "  </tbody>\n",
       "</table>\n",
       "</div>"
      ],
      "text/plain": [
       "    persons_count_marit  landing_year marital_status_eng_desc\n",
       "88                 45.0          2012       Annulled Marriage\n",
       "46               1145.0          2006               Separated\n",
       "90               3120.0          2012                Divorced\n",
       "47             107865.0          2006                  Single\n",
       "39               1145.0          2005               Separated"
      ]
     },
     "execution_count": 462,
     "metadata": {},
     "output_type": "execute_result"
    }
   ],
   "source": [
    "datasets[\"raw_data_marital_status\"].sample(5)"
   ]
  },
  {
   "cell_type": "code",
   "execution_count": null,
   "id": "f18127ff-b70c-4943-895d-dc8a73781376",
   "metadata": {},
   "outputs": [],
   "source": []
  },
  {
   "cell_type": "code",
   "execution_count": null,
   "id": "c9cb515c-00ed-4aba-a777-f746ad89348a",
   "metadata": {},
   "outputs": [],
   "source": []
  },
  {
   "cell_type": "code",
   "execution_count": null,
   "id": "58e56d30-aa98-4fc8-946e-d03efa684d53",
   "metadata": {},
   "outputs": [],
   "source": []
  },
  {
   "cell_type": "markdown",
   "id": "c35c4ebb-277f-4843-bb34-675fe4057ebd",
   "metadata": {},
   "source": [
    "## **NOC**"
   ]
  },
  {
   "cell_type": "code",
   "execution_count": 463,
   "id": "da076e26-302b-4e39-973d-bf3806d4e86f",
   "metadata": {},
   "outputs": [
    {
     "data": {
      "text/html": [
       "<div>\n",
       "<style scoped>\n",
       "    .dataframe tbody tr th:only-of-type {\n",
       "        vertical-align: middle;\n",
       "    }\n",
       "\n",
       "    .dataframe tbody tr th {\n",
       "        vertical-align: top;\n",
       "    }\n",
       "\n",
       "    .dataframe thead th {\n",
       "        text-align: right;\n",
       "    }\n",
       "</style>\n",
       "<table border=\"1\" class=\"dataframe\">\n",
       "  <thead>\n",
       "    <tr style=\"text-align: right;\">\n",
       "      <th></th>\n",
       "      <th>persons_count_noc_2</th>\n",
       "      <th>landing_year</th>\n",
       "      <th>noc_2011_level4_eng_desc</th>\n",
       "    </tr>\n",
       "  </thead>\n",
       "  <tbody>\n",
       "    <tr>\n",
       "      <th>1455</th>\n",
       "      <td>20.0</td>\n",
       "      <td>2003</td>\n",
       "      <td>1252 - Health information management occupations</td>\n",
       "    </tr>\n",
       "    <tr>\n",
       "      <th>1473</th>\n",
       "      <td>5.0</td>\n",
       "      <td>2003</td>\n",
       "      <td>1454 - Survey interviewers and statistical clerks</td>\n",
       "    </tr>\n",
       "    <tr>\n",
       "      <th>2221</th>\n",
       "      <td>60.0</td>\n",
       "      <td>2004</td>\n",
       "      <td>7612 - Other trades helpers and labourers</td>\n",
       "    </tr>\n",
       "    <tr>\n",
       "      <th>6586</th>\n",
       "      <td>120.0</td>\n",
       "      <td>2013</td>\n",
       "      <td>Not stated</td>\n",
       "    </tr>\n",
       "    <tr>\n",
       "      <th>2223</th>\n",
       "      <td>5.0</td>\n",
       "      <td>2004</td>\n",
       "      <td>7622 - Railway and motor transport labourers</td>\n",
       "    </tr>\n",
       "  </tbody>\n",
       "</table>\n",
       "</div>"
      ],
      "text/plain": [
       "      persons_count_noc_2  landing_year  \\\n",
       "1455                 20.0          2003   \n",
       "1473                  5.0          2003   \n",
       "2221                 60.0          2004   \n",
       "6586                120.0          2013   \n",
       "2223                  5.0          2004   \n",
       "\n",
       "                               noc_2011_level4_eng_desc  \n",
       "1455   1252 - Health information management occupations  \n",
       "1473  1454 - Survey interviewers and statistical clerks  \n",
       "2221          7612 - Other trades helpers and labourers  \n",
       "6586                                         Not stated  \n",
       "2223       7622 - Railway and motor transport labourers  "
      ]
     },
     "execution_count": 463,
     "metadata": {},
     "output_type": "execute_result"
    }
   ],
   "source": [
    "datasets[\"noc_2011\"].sample(5)"
   ]
  },
  {
   "cell_type": "code",
   "execution_count": null,
   "id": "301fd487-e086-4559-8cbe-803fc5bf2280",
   "metadata": {},
   "outputs": [],
   "source": []
  },
  {
   "cell_type": "code",
   "execution_count": null,
   "id": "3b33cc72-d3b8-4875-86fe-7de6186670e1",
   "metadata": {},
   "outputs": [],
   "source": []
  },
  {
   "cell_type": "code",
   "execution_count": null,
   "id": "efb0597f-8bd6-4848-b2b3-1cbc88b636c5",
   "metadata": {},
   "outputs": [],
   "source": []
  },
  {
   "cell_type": "markdown",
   "id": "a035da2c-0249-49d1-b9b6-eef3dca5e678",
   "metadata": {},
   "source": [
    "## **Preferred Language**"
   ]
  },
  {
   "cell_type": "code",
   "execution_count": 464,
   "id": "2da4c297-2efc-4f16-a7ad-98ac25089518",
   "metadata": {},
   "outputs": [
    {
     "data": {
      "text/html": [
       "<div>\n",
       "<style scoped>\n",
       "    .dataframe tbody tr th:only-of-type {\n",
       "        vertical-align: middle;\n",
       "    }\n",
       "\n",
       "    .dataframe tbody tr th {\n",
       "        vertical-align: top;\n",
       "    }\n",
       "\n",
       "    .dataframe thead th {\n",
       "        text-align: right;\n",
       "    }\n",
       "</style>\n",
       "<table border=\"1\" class=\"dataframe\">\n",
       "  <thead>\n",
       "    <tr style=\"text-align: right;\">\n",
       "      <th></th>\n",
       "      <th>persons_count_prefe</th>\n",
       "      <th>landing_year</th>\n",
       "      <th>preferred_language_eng_desc</th>\n",
       "    </tr>\n",
       "  </thead>\n",
       "  <tbody>\n",
       "    <tr>\n",
       "      <th>63</th>\n",
       "      <td>174015.0</td>\n",
       "      <td>2015</td>\n",
       "      <td>English</td>\n",
       "    </tr>\n",
       "    <tr>\n",
       "      <th>36</th>\n",
       "      <td>27930.0</td>\n",
       "      <td>2009</td>\n",
       "      <td>Bilingual</td>\n",
       "    </tr>\n",
       "    <tr>\n",
       "      <th>6</th>\n",
       "      <td>11330.0</td>\n",
       "      <td>2001</td>\n",
       "      <td>French</td>\n",
       "    </tr>\n",
       "    <tr>\n",
       "      <th>65</th>\n",
       "      <td>63530.0</td>\n",
       "      <td>2015</td>\n",
       "      <td>NaN</td>\n",
       "    </tr>\n",
       "    <tr>\n",
       "      <th>4</th>\n",
       "      <td>13040.0</td>\n",
       "      <td>2001</td>\n",
       "      <td>Bilingual</td>\n",
       "    </tr>\n",
       "  </tbody>\n",
       "</table>\n",
       "</div>"
      ],
      "text/plain": [
       "    persons_count_prefe  landing_year preferred_language_eng_desc\n",
       "63             174015.0          2015                     English\n",
       "36              27930.0          2009                   Bilingual\n",
       "6               11330.0          2001                      French\n",
       "65              63530.0          2015                         NaN\n",
       "4               13040.0          2001                   Bilingual"
      ]
     },
     "execution_count": 464,
     "metadata": {},
     "output_type": "execute_result"
    }
   ],
   "source": [
    "datasets[\"raw_data_preferred_language\"].sample(5)"
   ]
  },
  {
   "cell_type": "code",
   "execution_count": null,
   "id": "7be175ec-1870-4056-933b-e3d0a101cd3e",
   "metadata": {},
   "outputs": [],
   "source": []
  },
  {
   "cell_type": "code",
   "execution_count": null,
   "id": "e3fd37b2-ac56-49bc-a65e-12bf06489c91",
   "metadata": {},
   "outputs": [],
   "source": []
  },
  {
   "cell_type": "code",
   "execution_count": null,
   "id": "454646ab-c4f5-4dd7-b16f-77237355b49a",
   "metadata": {},
   "outputs": [],
   "source": []
  },
  {
   "cell_type": "markdown",
   "id": "db82a8b3-6a95-4fc0-a739-a2516f6d054e",
   "metadata": {},
   "source": [
    "## **Province**"
   ]
  },
  {
   "cell_type": "code",
   "execution_count": 465,
   "id": "1ecd2197-9ee0-421a-b150-fcf1e5e28dca",
   "metadata": {},
   "outputs": [
    {
     "data": {
      "text/html": [
       "<div>\n",
       "<style scoped>\n",
       "    .dataframe tbody tr th:only-of-type {\n",
       "        vertical-align: middle;\n",
       "    }\n",
       "\n",
       "    .dataframe tbody tr th {\n",
       "        vertical-align: top;\n",
       "    }\n",
       "\n",
       "    .dataframe thead th {\n",
       "        text-align: right;\n",
       "    }\n",
       "</style>\n",
       "<table border=\"1\" class=\"dataframe\">\n",
       "  <thead>\n",
       "    <tr style=\"text-align: right;\">\n",
       "      <th></th>\n",
       "      <th>persons_count_provi</th>\n",
       "      <th>landing_year</th>\n",
       "      <th>province_long_eng_desc</th>\n",
       "    </tr>\n",
       "  </thead>\n",
       "  <tbody>\n",
       "    <tr>\n",
       "      <th>189</th>\n",
       "      <td>1000.0</td>\n",
       "      <td>2013</td>\n",
       "      <td>Prince Edward Island</td>\n",
       "    </tr>\n",
       "    <tr>\n",
       "      <th>234</th>\n",
       "      <td>210.0</td>\n",
       "      <td>2016</td>\n",
       "      <td>Yukon</td>\n",
       "    </tr>\n",
       "    <tr>\n",
       "      <th>118</th>\n",
       "      <td>50.0</td>\n",
       "      <td>2008</td>\n",
       "      <td>Nunavut</td>\n",
       "    </tr>\n",
       "    <tr>\n",
       "      <th>49</th>\n",
       "      <td>10.0</td>\n",
       "      <td>2003</td>\n",
       "      <td>Nunavut</td>\n",
       "    </tr>\n",
       "    <tr>\n",
       "      <th>26</th>\n",
       "      <td>1705.0</td>\n",
       "      <td>2001</td>\n",
       "      <td>Saskatchewan</td>\n",
       "    </tr>\n",
       "  </tbody>\n",
       "</table>\n",
       "</div>"
      ],
      "text/plain": [
       "     persons_count_provi  landing_year province_long_eng_desc\n",
       "189               1000.0          2013   Prince Edward Island\n",
       "234                210.0          2016                  Yukon\n",
       "118                 50.0          2008                Nunavut\n",
       "49                  10.0          2003                Nunavut\n",
       "26                1705.0          2001           Saskatchewan"
      ]
     },
     "execution_count": 465,
     "metadata": {},
     "output_type": "execute_result"
    }
   ],
   "source": [
    "datasets[\"raw_data_province\"].sample(5)"
   ]
  },
  {
   "cell_type": "code",
   "execution_count": null,
   "id": "c163a5ed-a626-4370-aa28-999cd9073b15",
   "metadata": {},
   "outputs": [],
   "source": []
  },
  {
   "cell_type": "code",
   "execution_count": null,
   "id": "1c9b4ab4-f944-40ad-b76d-ffdc7b488d79",
   "metadata": {},
   "outputs": [],
   "source": []
  },
  {
   "cell_type": "code",
   "execution_count": null,
   "id": "e9c654a2-7c86-4b35-863b-5c5b3843c64e",
   "metadata": {},
   "outputs": [],
   "source": []
  },
  {
   "cell_type": "markdown",
   "id": "321de2c8-701c-4d5d-afcc-e515cae41f03",
   "metadata": {},
   "source": [
    "## **Skill level**"
   ]
  },
  {
   "cell_type": "code",
   "execution_count": 467,
   "id": "1820f58c-15fb-4b16-9e03-f1e0c77137e6",
   "metadata": {},
   "outputs": [],
   "source": [
    "df = datasets[\"raw_data_skill_level_2\"]"
   ]
  },
  {
   "cell_type": "code",
   "execution_count": 468,
   "id": "3d9d53be-cf67-4935-a35d-e7d8e1a43279",
   "metadata": {},
   "outputs": [
    {
     "data": {
      "text/html": [
       "<div>\n",
       "<style scoped>\n",
       "    .dataframe tbody tr th:only-of-type {\n",
       "        vertical-align: middle;\n",
       "    }\n",
       "\n",
       "    .dataframe tbody tr th {\n",
       "        vertical-align: top;\n",
       "    }\n",
       "\n",
       "    .dataframe thead th {\n",
       "        text-align: right;\n",
       "    }\n",
       "</style>\n",
       "<table border=\"1\" class=\"dataframe\">\n",
       "  <thead>\n",
       "    <tr style=\"text-align: right;\">\n",
       "      <th></th>\n",
       "      <th>persons_count_skill</th>\n",
       "      <th>landing_year</th>\n",
       "      <th>skill_level1_eng_desc</th>\n",
       "      <th>skill_level2_eng_desc</th>\n",
       "    </tr>\n",
       "  </thead>\n",
       "  <tbody>\n",
       "    <tr>\n",
       "      <th>89</th>\n",
       "      <td>305</td>\n",
       "      <td>2008</td>\n",
       "      <td>Not stated</td>\n",
       "      <td>Not stated</td>\n",
       "    </tr>\n",
       "    <tr>\n",
       "      <th>123</th>\n",
       "      <td>67500</td>\n",
       "      <td>2012</td>\n",
       "      <td>Intending to work</td>\n",
       "      <td>New Workers (15 Years of Age or Older)</td>\n",
       "    </tr>\n",
       "    <tr>\n",
       "      <th>21</th>\n",
       "      <td>41785</td>\n",
       "      <td>2002</td>\n",
       "      <td>Higher-skilled</td>\n",
       "      <td>A - Professionals</td>\n",
       "    </tr>\n",
       "    <tr>\n",
       "      <th>4</th>\n",
       "      <td>6620</td>\n",
       "      <td>2000</td>\n",
       "      <td>Lower-skilled</td>\n",
       "      <td>C - Intermediate and Clerical</td>\n",
       "    </tr>\n",
       "    <tr>\n",
       "      <th>84</th>\n",
       "      <td>9840</td>\n",
       "      <td>2008</td>\n",
       "      <td>Lower-skilled</td>\n",
       "      <td>C - Intermediate and Clerical</td>\n",
       "    </tr>\n",
       "  </tbody>\n",
       "</table>\n",
       "</div>"
      ],
      "text/plain": [
       "     persons_count_skill  landing_year skill_level1_eng_desc  \\\n",
       "89                   305          2008            Not stated   \n",
       "123                67500          2012     Intending to work   \n",
       "21                 41785          2002        Higher-skilled   \n",
       "4                   6620          2000         Lower-skilled   \n",
       "84                  9840          2008         Lower-skilled   \n",
       "\n",
       "                      skill_level2_eng_desc  \n",
       "89                               Not stated  \n",
       "123  New Workers (15 Years of Age or Older)  \n",
       "21                        A - Professionals  \n",
       "4             C - Intermediate and Clerical  \n",
       "84            C - Intermediate and Clerical  "
      ]
     },
     "execution_count": 468,
     "metadata": {},
     "output_type": "execute_result"
    }
   ],
   "source": [
    "df.sample(5)"
   ]
  },
  {
   "cell_type": "code",
   "execution_count": 469,
   "id": "c3830b09-5854-4cba-83be-c2ad69077fe7",
   "metadata": {},
   "outputs": [
    {
     "data": {
      "text/plain": [
       "array(['Higher-skilled', 'Intending to work', 'Lower-skilled',\n",
       "       'Not intending to work', 'Not stated'], dtype=object)"
      ]
     },
     "execution_count": 469,
     "metadata": {},
     "output_type": "execute_result"
    }
   ],
   "source": [
    "df[\"skill_level1_eng_desc\"].unique()"
   ]
  },
  {
   "cell_type": "code",
   "execution_count": 470,
   "id": "9810dd9f-97ad-4062-85ac-a27c03fe08c8",
   "metadata": {},
   "outputs": [
    {
     "data": {
      "text/plain": [
       "array(['0 - Managerial', 'A - Professionals', 'B - Skilled and Technical',\n",
       "       'New Workers (15 Years of Age or Older)',\n",
       "       'C - Intermediate and Clerical', 'D - Elemental and Labourers',\n",
       "       'Others Non-Workers (15 Years of Age or Older)',\n",
       "       'Retired (15 Years of Age or Older)',\n",
       "       'Students (15 Years of Age or Older)', 'Not stated'], dtype=object)"
      ]
     },
     "execution_count": 470,
     "metadata": {},
     "output_type": "execute_result"
    }
   ],
   "source": [
    "df[\"skill_level2_eng_desc\"].unique()"
   ]
  },
  {
   "cell_type": "code",
   "execution_count": null,
   "id": "5b7da0ab-19dd-4d17-8d34-121a404e548b",
   "metadata": {},
   "outputs": [],
   "source": []
  },
  {
   "cell_type": "code",
   "execution_count": null,
   "id": "451f4d67-d7aa-433f-8364-3e63971350c1",
   "metadata": {},
   "outputs": [],
   "source": []
  },
  {
   "cell_type": "code",
   "execution_count": null,
   "id": "b3f41463-caef-4f5f-8d8b-80620d993678",
   "metadata": {},
   "outputs": [],
   "source": []
  },
  {
   "cell_type": "markdown",
   "id": "c931b0bf-31e3-4adc-a84d-e5bdb4052c8b",
   "metadata": {},
   "source": [
    "## **Normalization**"
   ]
  },
  {
   "cell_type": "code",
   "execution_count": 123,
   "id": "9085f861-efe2-477b-8e99-c6ed7c4d2517",
   "metadata": {},
   "outputs": [
    {
     "data": {
      "text/html": [
       "<div>\n",
       "<style scoped>\n",
       "    .dataframe tbody tr th:only-of-type {\n",
       "        vertical-align: middle;\n",
       "    }\n",
       "\n",
       "    .dataframe tbody tr th {\n",
       "        vertical-align: top;\n",
       "    }\n",
       "\n",
       "    .dataframe thead th {\n",
       "        text-align: right;\n",
       "    }\n",
       "</style>\n",
       "<table border=\"1\" class=\"dataframe\">\n",
       "  <thead>\n",
       "    <tr style=\"text-align: right;\">\n",
       "      <th></th>\n",
       "      <th>persons_count_perso</th>\n",
       "      <th>person_age_level1_eng_desc</th>\n",
       "    </tr>\n",
       "  </thead>\n",
       "  <tbody>\n",
       "    <tr>\n",
       "      <th>37</th>\n",
       "      <td>1.042015</td>\n",
       "      <td>15 to 29 years old</td>\n",
       "    </tr>\n",
       "    <tr>\n",
       "      <th>13</th>\n",
       "      <td>0.733063</td>\n",
       "      <td>15 to 29 years old</td>\n",
       "    </tr>\n",
       "    <tr>\n",
       "      <th>8</th>\n",
       "      <td>1.412696</td>\n",
       "      <td>30 to 44 years old</td>\n",
       "    </tr>\n",
       "    <tr>\n",
       "      <th>36</th>\n",
       "      <td>0.285839</td>\n",
       "      <td>0 to 14 years old</td>\n",
       "    </tr>\n",
       "    <tr>\n",
       "      <th>5</th>\n",
       "      <td>-1.255064</td>\n",
       "      <td>75 years old or more</td>\n",
       "    </tr>\n",
       "  </tbody>\n",
       "</table>\n",
       "</div>"
      ],
      "text/plain": [
       "   persons_count_perso person_age_level1_eng_desc\n",
       "37            1.042015         15 to 29 years old\n",
       "13            0.733063         15 to 29 years old\n",
       "8             1.412696         30 to 44 years old\n",
       "36            0.285839          0 to 14 years old\n",
       "5            -1.255064       75 years old or more"
      ]
     },
     "execution_count": 123,
     "metadata": {},
     "output_type": "execute_result"
    }
   ],
   "source": [
    "# Define a column transformer for Z-score normalization\n",
    "ct = ColumnTransformer([\n",
    "    ('standard_scaler', StandardScaler(), ['persons_count_perso'])\n",
    "], remainder='passthrough')\n",
    "\n",
    "# Apply the transformation\n",
    "df_transformed = ct.fit_transform(age_dataset)\n",
    "df_transformed = pd.DataFrame(df_transformed, columns=['persons_count_perso', 'person_age_level1_eng_desc'])\n",
    "df_transformed.sample(5)"
   ]
  },
  {
   "cell_type": "code",
   "execution_count": 124,
   "id": "eb9765fd-ad1d-44d8-b10d-429b7688307d",
   "metadata": {},
   "outputs": [
    {
     "data": {
      "image/png": "[encoded data removed]",
      "text/plain": [
       "<Figure size 640x480 with 1 Axes>"
      ]
     },
     "metadata": {},
     "output_type": "display_data"
    }
   ],
   "source": [
    "df_transformed.groupby(\"person_age_level1_eng_desc\").sum().plot(kind=\"bar\");"
   ]
  },
  {
   "cell_type": "code",
   "execution_count": null,
   "id": "a21f5f57-a20a-4305-b7a3-1b93853264ba",
   "metadata": {},
   "outputs": [],
   "source": []
  },
  {
   "cell_type": "code",
   "execution_count": 125,
   "id": "eda57ca2-6d9d-44e6-99ca-676332616eb4",
   "metadata": {},
   "outputs": [
    {
     "data": {
      "text/html": [
       "<div>\n",
       "<style scoped>\n",
       "    .dataframe tbody tr th:only-of-type {\n",
       "        vertical-align: middle;\n",
       "    }\n",
       "\n",
       "    .dataframe tbody tr th {\n",
       "        vertical-align: top;\n",
       "    }\n",
       "\n",
       "    .dataframe thead th {\n",
       "        text-align: right;\n",
       "    }\n",
       "</style>\n",
       "<table border=\"1\" class=\"dataframe\">\n",
       "  <thead>\n",
       "    <tr style=\"text-align: right;\">\n",
       "      <th></th>\n",
       "      <th>persons_count_perso</th>\n",
       "      <th>person_age_level1_eng_desc</th>\n",
       "    </tr>\n",
       "  </thead>\n",
       "  <tbody>\n",
       "    <tr>\n",
       "      <th>36</th>\n",
       "      <td>0.481351</td>\n",
       "      <td>0 to 14 years old</td>\n",
       "    </tr>\n",
       "    <tr>\n",
       "      <th>10</th>\n",
       "      <td>0.07827</td>\n",
       "      <td>60 to 74 years old</td>\n",
       "    </tr>\n",
       "    <tr>\n",
       "      <th>60</th>\n",
       "      <td>0.570209</td>\n",
       "      <td>0 to 14 years old</td>\n",
       "    </tr>\n",
       "    <tr>\n",
       "      <th>1</th>\n",
       "      <td>0.643327</td>\n",
       "      <td>15 to 29 years old</td>\n",
       "    </tr>\n",
       "    <tr>\n",
       "      <th>28</th>\n",
       "      <td>0.064962</td>\n",
       "      <td>60 to 74 years old</td>\n",
       "    </tr>\n",
       "  </tbody>\n",
       "</table>\n",
       "</div>"
      ],
      "text/plain": [
       "   persons_count_perso person_age_level1_eng_desc\n",
       "36            0.481351          0 to 14 years old\n",
       "10             0.07827         60 to 74 years old\n",
       "60            0.570209          0 to 14 years old\n",
       "1             0.643327         15 to 29 years old\n",
       "28            0.064962         60 to 74 years old"
      ]
     },
     "execution_count": 125,
     "metadata": {},
     "output_type": "execute_result"
    }
   ],
   "source": [
    "# Define a column transformer MinMax normalization\n",
    "ct = ColumnTransformer([\n",
    "    ('min_max_scaler', MinMaxScaler(), ['persons_count_perso'])\n",
    "], remainder='passthrough')\n",
    "\n",
    "# Apply the transformation\n",
    "df_transformed = ct.fit_transform(age_dataset)\n",
    "df_transformed = pd.DataFrame(df_transformed, columns=['persons_count_perso', 'person_age_level1_eng_desc'])\n",
    "df_transformed.sample(5)"
   ]
  },
  {
   "cell_type": "code",
   "execution_count": 126,
   "id": "80a97476-2873-4c4f-af09-a054dcf2e5fb",
   "metadata": {},
   "outputs": [
    {
     "data": {
      "image/png": "[encoded data removed]",
      "text/plain": [
       "<Figure size 640x480 with 1 Axes>"
      ]
     },
     "metadata": {},
     "output_type": "display_data"
    }
   ],
   "source": [
    "df_transformed.groupby(\"person_age_level1_eng_desc\").sum().plot(kind=\"bar\");"
   ]
  },
  {
   "cell_type": "code",
   "execution_count": null,
   "id": "1cdcff8b-4031-46e3-a65c-2a1cafa67f10",
   "metadata": {},
   "outputs": [],
   "source": []
  },
  {
   "cell_type": "code",
   "execution_count": null,
   "id": "4cf8c1fb-6981-4c00-b83f-45ae3a8379be",
   "metadata": {},
   "outputs": [],
   "source": []
  },
  {
   "cell_type": "code",
   "execution_count": null,
   "id": "68aba120-6a81-4d00-81c1-f876bd4632b9",
   "metadata": {},
   "outputs": [],
   "source": []
  },
  {
   "cell_type": "code",
   "execution_count": null,
   "id": "b0342a88-63d8-4178-9b45-e512a50698b7",
   "metadata": {},
   "outputs": [],
   "source": []
  },
  {
   "cell_type": "code",
   "execution_count": null,
   "id": "8deda3d2-c38a-4014-91dd-c6af1d7784f9",
   "metadata": {},
   "outputs": [],
   "source": []
  },
  {
   "cell_type": "markdown",
   "id": "afeefdbf-4486-4c2c-bc80-6e70432809e1",
   "metadata": {},
   "source": [
    "## **CENSUS dataset**"
   ]
  },
  {
   "cell_type": "code",
   "execution_count": 9,
   "id": "b1855ca7-e250-4fbe-b42f-f119f6bc5632",
   "metadata": {},
   "outputs": [],
   "source": [
    "raw_data = pd.read_csv(\"../data/ODP-PR-CSD.csv\", delimiter='\\t', index_col=0) # ODP-PR-CSD.csv\n",
    "raw_data.reset_index(inplace=True)"
   ]
  },
  {
   "cell_type": "code",
   "execution_count": 10,
   "id": "700428ca-5ec6-4a9c-a081-8f764276be2a",
   "metadata": {},
   "outputs": [
    {
     "data": {
      "text/html": [
       "<div>\n",
       "<style scoped>\n",
       "    .dataframe tbody tr th:only-of-type {\n",
       "        vertical-align: middle;\n",
       "    }\n",
       "\n",
       "    .dataframe tbody tr th {\n",
       "        vertical-align: top;\n",
       "    }\n",
       "\n",
       "    .dataframe thead th {\n",
       "        text-align: right;\n",
       "    }\n",
       "</style>\n",
       "<table border=\"1\" class=\"dataframe\">\n",
       "  <thead>\n",
       "    <tr style=\"text-align: right;\">\n",
       "      <th></th>\n",
       "      <th>EN_YEAR</th>\n",
       "      <th>EN_QUARTER</th>\n",
       "      <th>EN_MONTH</th>\n",
       "      <th>FR_ANNEÉ</th>\n",
       "      <th>FR_TRIMESTRE</th>\n",
       "      <th>FR_MOIS</th>\n",
       "      <th>EN_PROVINCE_TERRITORY</th>\n",
       "      <th>FR_PROVINCE_TERRITOIRE</th>\n",
       "      <th>EN_CENSUS_DIVISION</th>\n",
       "      <th>FR_DIVISION_DE_RECENSEMENT</th>\n",
       "      <th>EN_CENSUS_SUBDIVISION</th>\n",
       "      <th>FR_SUBDIVISION_DE_RECENSEMENT</th>\n",
       "      <th>Total</th>\n",
       "    </tr>\n",
       "  </thead>\n",
       "  <tbody>\n",
       "    <tr>\n",
       "      <th>10751</th>\n",
       "      <td>2016</td>\n",
       "      <td>Q3</td>\n",
       "      <td>Aug</td>\n",
       "      <td>2016</td>\n",
       "      <td>T3</td>\n",
       "      <td>août</td>\n",
       "      <td>Ontario</td>\n",
       "      <td>Ontario</td>\n",
       "      <td>Cochrane</td>\n",
       "      <td>Cochrane</td>\n",
       "      <td>Cochrane</td>\n",
       "      <td>Cochrane</td>\n",
       "      <td>5</td>\n",
       "    </tr>\n",
       "    <tr>\n",
       "      <th>55571</th>\n",
       "      <td>2022</td>\n",
       "      <td>Q2</td>\n",
       "      <td>May</td>\n",
       "      <td>2022</td>\n",
       "      <td>T2</td>\n",
       "      <td>mai</td>\n",
       "      <td>Ontario</td>\n",
       "      <td>Ontario</td>\n",
       "      <td>Grey</td>\n",
       "      <td>Grey</td>\n",
       "      <td>Southgate</td>\n",
       "      <td>Southgate</td>\n",
       "      <td>--</td>\n",
       "    </tr>\n",
       "    <tr>\n",
       "      <th>43379</th>\n",
       "      <td>2021</td>\n",
       "      <td>Q1</td>\n",
       "      <td>Jan</td>\n",
       "      <td>2021</td>\n",
       "      <td>T1</td>\n",
       "      <td>janv.</td>\n",
       "      <td>Prince Edward Island</td>\n",
       "      <td>Île-du-Prince-Édouard</td>\n",
       "      <td>Queens</td>\n",
       "      <td>Queens</td>\n",
       "      <td>Charlottetown</td>\n",
       "      <td>Charlottetown</td>\n",
       "      <td>75</td>\n",
       "    </tr>\n",
       "    <tr>\n",
       "      <th>41311</th>\n",
       "      <td>2020</td>\n",
       "      <td>Q4</td>\n",
       "      <td>Dec</td>\n",
       "      <td>2020</td>\n",
       "      <td>T4</td>\n",
       "      <td>déc.</td>\n",
       "      <td>British Columbia</td>\n",
       "      <td>Colombie-Britannique</td>\n",
       "      <td>Comox Valley</td>\n",
       "      <td>Comox Valley</td>\n",
       "      <td>Comox</td>\n",
       "      <td>Comox</td>\n",
       "      <td>--</td>\n",
       "    </tr>\n",
       "    <tr>\n",
       "      <th>36333</th>\n",
       "      <td>2019</td>\n",
       "      <td>Q4</td>\n",
       "      <td>Oct</td>\n",
       "      <td>2019</td>\n",
       "      <td>T4</td>\n",
       "      <td>oct.</td>\n",
       "      <td>Manitoba</td>\n",
       "      <td>Manitoba</td>\n",
       "      <td>Division No.  7</td>\n",
       "      <td>Division No.  7</td>\n",
       "      <td>Brandon</td>\n",
       "      <td>Brandon</td>\n",
       "      <td>85</td>\n",
       "    </tr>\n",
       "  </tbody>\n",
       "</table>\n",
       "</div>"
      ],
      "text/plain": [
       "       EN_YEAR EN_QUARTER EN_MONTH  FR_ANNEÉ FR_TRIMESTRE FR_MOIS  \\\n",
       "10751     2016         Q3      Aug      2016           T3    août   \n",
       "55571     2022         Q2      May      2022           T2     mai   \n",
       "43379     2021         Q1      Jan      2021           T1   janv.   \n",
       "41311     2020         Q4      Dec      2020           T4    déc.   \n",
       "36333     2019         Q4      Oct      2019           T4    oct.   \n",
       "\n",
       "      EN_PROVINCE_TERRITORY FR_PROVINCE_TERRITOIRE EN_CENSUS_DIVISION  \\\n",
       "10751               Ontario                Ontario           Cochrane   \n",
       "55571               Ontario                Ontario               Grey   \n",
       "43379  Prince Edward Island  Île-du-Prince-Édouard             Queens   \n",
       "41311      British Columbia   Colombie-Britannique       Comox Valley   \n",
       "36333              Manitoba               Manitoba    Division No.  7   \n",
       "\n",
       "      FR_DIVISION_DE_RECENSEMENT EN_CENSUS_SUBDIVISION  \\\n",
       "10751                   Cochrane              Cochrane   \n",
       "55571                       Grey             Southgate   \n",
       "43379                     Queens         Charlottetown   \n",
       "41311               Comox Valley                 Comox   \n",
       "36333            Division No.  7               Brandon   \n",
       "\n",
       "      FR_SUBDIVISION_DE_RECENSEMENT Total  \n",
       "10751                      Cochrane     5  \n",
       "55571                     Southgate    --  \n",
       "43379                 Charlottetown    75  \n",
       "41311                         Comox    --  \n",
       "36333                       Brandon    85  "
      ]
     },
     "execution_count": 10,
     "metadata": {},
     "output_type": "execute_result"
    }
   ],
   "source": [
    "raw_data.sample(5)"
   ]
  },
  {
   "cell_type": "code",
   "execution_count": 11,
   "id": "02eadd3a-1b38-4490-bb40-171f8dd0cf7f",
   "metadata": {},
   "outputs": [],
   "source": [
    "clean_data = raw_data.drop(columns=[\n",
    "    # 'EN_QUARTER',\n",
    "    # 'EN_MONTH',\n",
    "    'FR_ANNEÉ',\n",
    "    'FR_TRIMESTRE',\n",
    "    'FR_MOIS',\n",
    "    # 'EN_PROVINCE_TERRITORY',\n",
    "    'FR_PROVINCE_TERRITOIRE',\n",
    "    # 'EN_CENSUS_DIVISION',\n",
    "    'FR_DIVISION_DE_RECENSEMENT',\n",
    "    # 'EN_CENSUS_SUBDIVISION',\n",
    "    'FR_SUBDIVISION_DE_RECENSEMENT'\n",
    "])"
   ]
  },
  {
   "cell_type": "code",
   "execution_count": 12,
   "id": "d0e1612b-6a2e-4e01-9331-8f57d7054a1b",
   "metadata": {},
   "outputs": [
    {
     "data": {
      "text/html": [
       "<div>\n",
       "<style scoped>\n",
       "    .dataframe tbody tr th:only-of-type {\n",
       "        vertical-align: middle;\n",
       "    }\n",
       "\n",
       "    .dataframe tbody tr th {\n",
       "        vertical-align: top;\n",
       "    }\n",
       "\n",
       "    .dataframe thead th {\n",
       "        text-align: right;\n",
       "    }\n",
       "</style>\n",
       "<table border=\"1\" class=\"dataframe\">\n",
       "  <thead>\n",
       "    <tr style=\"text-align: right;\">\n",
       "      <th></th>\n",
       "      <th>EN_YEAR</th>\n",
       "      <th>EN_QUARTER</th>\n",
       "      <th>EN_MONTH</th>\n",
       "      <th>EN_PROVINCE_TERRITORY</th>\n",
       "      <th>EN_CENSUS_DIVISION</th>\n",
       "      <th>EN_CENSUS_SUBDIVISION</th>\n",
       "      <th>Total</th>\n",
       "    </tr>\n",
       "  </thead>\n",
       "  <tbody>\n",
       "    <tr>\n",
       "      <th>59740</th>\n",
       "      <td>2022</td>\n",
       "      <td>Q4</td>\n",
       "      <td>Oct</td>\n",
       "      <td>Ontario</td>\n",
       "      <td>Northumberland</td>\n",
       "      <td>Port Hope</td>\n",
       "      <td>--</td>\n",
       "    </tr>\n",
       "    <tr>\n",
       "      <th>29739</th>\n",
       "      <td>2019</td>\n",
       "      <td>Q1</td>\n",
       "      <td>Jan</td>\n",
       "      <td>Saskatchewan</td>\n",
       "      <td>Division No. 16</td>\n",
       "      <td>Borden</td>\n",
       "      <td>--</td>\n",
       "    </tr>\n",
       "    <tr>\n",
       "      <th>35960</th>\n",
       "      <td>2019</td>\n",
       "      <td>Q4</td>\n",
       "      <td>Nov</td>\n",
       "      <td>Quebec</td>\n",
       "      <td>Mirabel</td>\n",
       "      <td>Mirabel</td>\n",
       "      <td>--</td>\n",
       "    </tr>\n",
       "    <tr>\n",
       "      <th>56735</th>\n",
       "      <td>2022</td>\n",
       "      <td>Q3</td>\n",
       "      <td>Jul</td>\n",
       "      <td>Ontario</td>\n",
       "      <td>Prescott and Russell</td>\n",
       "      <td>Hawkesbury</td>\n",
       "      <td>--</td>\n",
       "    </tr>\n",
       "    <tr>\n",
       "      <th>28661</th>\n",
       "      <td>2018</td>\n",
       "      <td>Q4</td>\n",
       "      <td>Oct</td>\n",
       "      <td>Saskatchewan</td>\n",
       "      <td>Division No.  8</td>\n",
       "      <td>Eston</td>\n",
       "      <td>--</td>\n",
       "    </tr>\n",
       "  </tbody>\n",
       "</table>\n",
       "</div>"
      ],
      "text/plain": [
       "       EN_YEAR EN_QUARTER EN_MONTH EN_PROVINCE_TERRITORY  \\\n",
       "59740     2022         Q4      Oct               Ontario   \n",
       "29739     2019         Q1      Jan          Saskatchewan   \n",
       "35960     2019         Q4      Nov                Quebec   \n",
       "56735     2022         Q3      Jul               Ontario   \n",
       "28661     2018         Q4      Oct          Saskatchewan   \n",
       "\n",
       "         EN_CENSUS_DIVISION EN_CENSUS_SUBDIVISION Total  \n",
       "59740        Northumberland             Port Hope    --  \n",
       "29739       Division No. 16                Borden    --  \n",
       "35960               Mirabel               Mirabel    --  \n",
       "56735  Prescott and Russell            Hawkesbury    --  \n",
       "28661       Division No.  8                 Eston    --  "
      ]
     },
     "execution_count": 12,
     "metadata": {},
     "output_type": "execute_result"
    }
   ],
   "source": [
    "clean_data.sample(5)"
   ]
  },
  {
   "cell_type": "code",
   "execution_count": 13,
   "id": "671142b6-4c48-40bc-b36e-8a01c48cf564",
   "metadata": {},
   "outputs": [
    {
     "data": {
      "text/html": [
       "<div>\n",
       "<style scoped>\n",
       "    .dataframe tbody tr th:only-of-type {\n",
       "        vertical-align: middle;\n",
       "    }\n",
       "\n",
       "    .dataframe tbody tr th {\n",
       "        vertical-align: top;\n",
       "    }\n",
       "\n",
       "    .dataframe thead th {\n",
       "        text-align: right;\n",
       "    }\n",
       "</style>\n",
       "<table border=\"1\" class=\"dataframe\">\n",
       "  <thead>\n",
       "    <tr style=\"text-align: right;\">\n",
       "      <th></th>\n",
       "      <th>year</th>\n",
       "      <th>quarter</th>\n",
       "      <th>month</th>\n",
       "      <th>province_territory</th>\n",
       "      <th>census_division</th>\n",
       "      <th>census_subdivision</th>\n",
       "      <th>total</th>\n",
       "    </tr>\n",
       "  </thead>\n",
       "  <tbody>\n",
       "    <tr>\n",
       "      <th>20450</th>\n",
       "      <td>2017</td>\n",
       "      <td>Q4</td>\n",
       "      <td>Nov</td>\n",
       "      <td>Newfoundland and Labrador</td>\n",
       "      <td>Division No.  7</td>\n",
       "      <td>Clarenville</td>\n",
       "      <td>10</td>\n",
       "    </tr>\n",
       "    <tr>\n",
       "      <th>7624</th>\n",
       "      <td>2016</td>\n",
       "      <td>Q1</td>\n",
       "      <td>Jan</td>\n",
       "      <td>Saskatchewan</td>\n",
       "      <td>Division No. 15</td>\n",
       "      <td>Humboldt</td>\n",
       "      <td>10</td>\n",
       "    </tr>\n",
       "    <tr>\n",
       "      <th>18142</th>\n",
       "      <td>2017</td>\n",
       "      <td>Q3</td>\n",
       "      <td>Aug</td>\n",
       "      <td>Alberta</td>\n",
       "      <td>Division No.  6</td>\n",
       "      <td>Cochrane</td>\n",
       "      <td>5</td>\n",
       "    </tr>\n",
       "    <tr>\n",
       "      <th>68006</th>\n",
       "      <td>2023</td>\n",
       "      <td>Q4</td>\n",
       "      <td>Nov</td>\n",
       "      <td>Alberta</td>\n",
       "      <td>Division No. 17</td>\n",
       "      <td>High Prairie</td>\n",
       "      <td>--</td>\n",
       "    </tr>\n",
       "    <tr>\n",
       "      <th>18628</th>\n",
       "      <td>2017</td>\n",
       "      <td>Q3</td>\n",
       "      <td>Jul</td>\n",
       "      <td>Ontario</td>\n",
       "      <td>Middlesex</td>\n",
       "      <td>Adelaide-Metcalfe</td>\n",
       "      <td>--</td>\n",
       "    </tr>\n",
       "  </tbody>\n",
       "</table>\n",
       "</div>"
      ],
      "text/plain": [
       "       year quarter month         province_territory  census_division  \\\n",
       "20450  2017      Q4   Nov  Newfoundland and Labrador  Division No.  7   \n",
       "7624   2016      Q1   Jan               Saskatchewan  Division No. 15   \n",
       "18142  2017      Q3   Aug                    Alberta  Division No.  6   \n",
       "68006  2023      Q4   Nov                    Alberta  Division No. 17   \n",
       "18628  2017      Q3   Jul                    Ontario        Middlesex   \n",
       "\n",
       "      census_subdivision total  \n",
       "20450        Clarenville    10  \n",
       "7624            Humboldt    10  \n",
       "18142           Cochrane     5  \n",
       "68006       High Prairie    --  \n",
       "18628  Adelaide-Metcalfe    --  "
      ]
     },
     "execution_count": 13,
     "metadata": {},
     "output_type": "execute_result"
    }
   ],
   "source": [
    "clean_data.rename(columns={column: column.replace(\"EN_\", \"\").lower() for column in clean_data.columns}, inplace=True)\n",
    "clean_data.sample(5)"
   ]
  },
  {
   "cell_type": "code",
   "execution_count": 14,
   "id": "776e16fb-c2de-4fd6-9372-c6b2f96eb921",
   "metadata": {},
   "outputs": [
    {
     "name": "stdout",
     "output_type": "stream",
     "text": [
      "<class 'pandas.core.frame.DataFrame'>\n",
      "RangeIndex: 69987 entries, 0 to 69986\n",
      "Data columns (total 7 columns):\n",
      " #   Column              Non-Null Count  Dtype \n",
      "---  ------              --------------  ----- \n",
      " 0   year                69987 non-null  int64 \n",
      " 1   quarter             69987 non-null  object\n",
      " 2   month               69987 non-null  object\n",
      " 3   province_territory  69987 non-null  object\n",
      " 4   census_division     69987 non-null  object\n",
      " 5   census_subdivision  69987 non-null  object\n",
      " 6   total               69987 non-null  object\n",
      "dtypes: int64(1), object(6)\n",
      "memory usage: 3.7+ MB\n"
     ]
    }
   ],
   "source": [
    "clean_data.info()"
   ]
  },
  {
   "cell_type": "code",
   "execution_count": 15,
   "id": "6fb902c4-8456-4f8a-9266-d0ea9af5ae97",
   "metadata": {},
   "outputs": [
    {
     "data": {
      "text/html": [
       "<div>\n",
       "<style scoped>\n",
       "    .dataframe tbody tr th:only-of-type {\n",
       "        vertical-align: middle;\n",
       "    }\n",
       "\n",
       "    .dataframe tbody tr th {\n",
       "        vertical-align: top;\n",
       "    }\n",
       "\n",
       "    .dataframe thead th {\n",
       "        text-align: right;\n",
       "    }\n",
       "</style>\n",
       "<table border=\"1\" class=\"dataframe\">\n",
       "  <thead>\n",
       "    <tr style=\"text-align: right;\">\n",
       "      <th></th>\n",
       "      <th>year</th>\n",
       "      <th>quarter</th>\n",
       "      <th>month</th>\n",
       "      <th>province_territory</th>\n",
       "      <th>census_division</th>\n",
       "      <th>census_subdivision</th>\n",
       "      <th>total</th>\n",
       "    </tr>\n",
       "  </thead>\n",
       "  <tbody>\n",
       "    <tr>\n",
       "      <th>61699</th>\n",
       "      <td>2023</td>\n",
       "      <td>Q1</td>\n",
       "      <td>Jan</td>\n",
       "      <td>Saskatchewan</td>\n",
       "      <td>Division No.  8</td>\n",
       "      <td>Swift Current</td>\n",
       "      <td>35</td>\n",
       "    </tr>\n",
       "  </tbody>\n",
       "</table>\n",
       "</div>"
      ],
      "text/plain": [
       "       year quarter month province_territory  census_division  \\\n",
       "61699  2023      Q1   Jan       Saskatchewan  Division No.  8   \n",
       "\n",
       "      census_subdivision total  \n",
       "61699      Swift Current    35  "
      ]
     },
     "execution_count": 15,
     "metadata": {},
     "output_type": "execute_result"
    }
   ],
   "source": [
    "clean_data.sample()"
   ]
  },
  {
   "cell_type": "code",
   "execution_count": null,
   "id": "3eafbbf1-ef3a-487e-a7b3-d1688d01e1a1",
   "metadata": {},
   "outputs": [],
   "source": []
  },
  {
   "cell_type": "code",
   "execution_count": 16,
   "id": "e55c9b25-8c33-4d39-b4e7-9350558b20d2",
   "metadata": {},
   "outputs": [
    {
     "name": "stderr",
     "output_type": "stream",
     "text": [
      "/tmp/ipykernel_34594/2405731097.py:6: FutureWarning: Downcasting behavior in `replace` is deprecated and will be removed in a future version. To retain the old behavior, explicitly call `result.infer_objects(copy=False)`. To opt-in to the future behavior, set `pd.set_option('future.no_silent_downcasting', True)`\n",
      "  clean_data[\"month\"] = clean_data[\"month\"].replace(month_to_num)\n"
     ]
    }
   ],
   "source": [
    "month_to_num = {\n",
    "    'Jan': 1, 'Feb': 2, 'Mar': 3, 'Apr': 4,\n",
    "    'May': 5, 'Jun': 6, 'Jul': 7, 'Aug': 8,\n",
    "    'Sep': 9, 'Oct': 10, 'Nov': 11, 'Dec': 12\n",
    "}\n",
    "clean_data[\"month\"] = clean_data[\"month\"].replace(month_to_num)"
   ]
  },
  {
   "cell_type": "code",
   "execution_count": 17,
   "id": "b4ea5a24-ce5e-4908-92f8-e35f54126be8",
   "metadata": {},
   "outputs": [],
   "source": [
    "quarter_to_number = {'Q1': 1, 'Q2': 2, 'Q3': 3, 'Q4': 4}\n",
    "clean_data[\"quarter\"] = clean_data[\"month\"].replace(quarter_to_number)"
   ]
  },
  {
   "cell_type": "code",
   "execution_count": 18,
   "id": "1d2cc07c-c95a-4722-b476-d186e2314290",
   "metadata": {},
   "outputs": [],
   "source": [
    "clean_data[\"total\"] = clean_data[\"total\"].replace(\"--\", 0)"
   ]
  },
  {
   "cell_type": "code",
   "execution_count": 19,
   "id": "5f705467-7f75-485c-8f79-077818fda1ef",
   "metadata": {},
   "outputs": [],
   "source": [
    "clean_data[\"total\"] = pd.to_numeric(clean_data[\"total\"])"
   ]
  },
  {
   "cell_type": "code",
   "execution_count": 20,
   "id": "fc1369d9-eabb-4192-b357-788f5fedea38",
   "metadata": {},
   "outputs": [
    {
     "data": {
      "text/plain": [
       "2980850"
      ]
     },
     "execution_count": 20,
     "metadata": {},
     "output_type": "execute_result"
    }
   ],
   "source": [
    "clean_data[\"total\"].sum()  # with zeros"
   ]
  },
  {
   "cell_type": "code",
   "execution_count": 21,
   "id": "bbe8a44f-31e1-46c3-beab-1e535ca6baec",
   "metadata": {},
   "outputs": [],
   "source": [
    "# Select indices where values are 0\n",
    "zero_indices = clean_data.index[clean_data['total'] == 0].tolist()\n",
    "\n",
    "# Shuffle indices\n",
    "np.random.shuffle(zero_indices)\n",
    "\n",
    "# Divide into two parts\n",
    "mid_point = len(zero_indices) // 2\n",
    "first_part, second_part = zero_indices[:mid_point], zero_indices[mid_point:]\n",
    "\n",
    "# Replace values\n",
    "clean_data.loc[first_part, 'total'] = 1\n",
    "clean_data.loc[second_part, 'total'] = 2"
   ]
  },
  {
   "cell_type": "code",
   "execution_count": 22,
   "id": "6e73921d-8dc9-4cef-83d9-488179c977cc",
   "metadata": {},
   "outputs": [
    {
     "data": {
      "text/plain": [
       "3045088"
      ]
     },
     "execution_count": 22,
     "metadata": {},
     "output_type": "execute_result"
    }
   ],
   "source": [
    "clean_data[\"total\"].sum()  # with zeros"
   ]
  },
  {
   "cell_type": "code",
   "execution_count": 23,
   "id": "675cd066-202a-4881-8d37-354809772c3c",
   "metadata": {},
   "outputs": [
    {
     "name": "stdout",
     "output_type": "stream",
     "text": [
      "<class 'pandas.core.frame.DataFrame'>\n",
      "RangeIndex: 69987 entries, 0 to 69986\n",
      "Data columns (total 7 columns):\n",
      " #   Column              Non-Null Count  Dtype \n",
      "---  ------              --------------  ----- \n",
      " 0   year                69987 non-null  int64 \n",
      " 1   quarter             69987 non-null  int64 \n",
      " 2   month               69987 non-null  int64 \n",
      " 3   province_territory  69987 non-null  object\n",
      " 4   census_division     69987 non-null  object\n",
      " 5   census_subdivision  69987 non-null  object\n",
      " 6   total               69987 non-null  int64 \n",
      "dtypes: int64(4), object(3)\n",
      "memory usage: 3.7+ MB\n"
     ]
    }
   ],
   "source": [
    "clean_data.info()"
   ]
  },
  {
   "cell_type": "code",
   "execution_count": 25,
   "id": "9fb12358-1d6f-447c-a78a-8455a02e96b1",
   "metadata": {},
   "outputs": [
    {
     "data": {
      "text/html": [
       "<div>\n",
       "<style scoped>\n",
       "    .dataframe tbody tr th:only-of-type {\n",
       "        vertical-align: middle;\n",
       "    }\n",
       "\n",
       "    .dataframe tbody tr th {\n",
       "        vertical-align: top;\n",
       "    }\n",
       "\n",
       "    .dataframe thead th {\n",
       "        text-align: right;\n",
       "    }\n",
       "</style>\n",
       "<table border=\"1\" class=\"dataframe\">\n",
       "  <thead>\n",
       "    <tr style=\"text-align: right;\">\n",
       "      <th></th>\n",
       "      <th>year</th>\n",
       "      <th>quarter</th>\n",
       "      <th>month</th>\n",
       "      <th>province_territory</th>\n",
       "      <th>census_division</th>\n",
       "      <th>census_subdivision</th>\n",
       "      <th>total</th>\n",
       "    </tr>\n",
       "  </thead>\n",
       "  <tbody>\n",
       "    <tr>\n",
       "      <th>6106</th>\n",
       "      <td>2015</td>\n",
       "      <td>11</td>\n",
       "      <td>11</td>\n",
       "      <td>Ontario</td>\n",
       "      <td>Elgin</td>\n",
       "      <td>St. Thomas</td>\n",
       "      <td>1</td>\n",
       "    </tr>\n",
       "    <tr>\n",
       "      <th>42627</th>\n",
       "      <td>2020</td>\n",
       "      <td>10</td>\n",
       "      <td>10</td>\n",
       "      <td>Manitoba</td>\n",
       "      <td>Division No.  2</td>\n",
       "      <td>Ste. Anne</td>\n",
       "      <td>2</td>\n",
       "    </tr>\n",
       "    <tr>\n",
       "      <th>3558</th>\n",
       "      <td>2015</td>\n",
       "      <td>8</td>\n",
       "      <td>8</td>\n",
       "      <td>Quebec</td>\n",
       "      <td>Abitibi-Ouest</td>\n",
       "      <td>Macamic</td>\n",
       "      <td>1</td>\n",
       "    </tr>\n",
       "    <tr>\n",
       "      <th>19351</th>\n",
       "      <td>2017</td>\n",
       "      <td>9</td>\n",
       "      <td>9</td>\n",
       "      <td>British Columbia</td>\n",
       "      <td>Comox Valley</td>\n",
       "      <td>Courtenay</td>\n",
       "      <td>5</td>\n",
       "    </tr>\n",
       "    <tr>\n",
       "      <th>46086</th>\n",
       "      <td>2021</td>\n",
       "      <td>5</td>\n",
       "      <td>5</td>\n",
       "      <td>Quebec</td>\n",
       "      <td>Montréal</td>\n",
       "      <td>Pointe-Claire</td>\n",
       "      <td>5</td>\n",
       "    </tr>\n",
       "  </tbody>\n",
       "</table>\n",
       "</div>"
      ],
      "text/plain": [
       "       year  quarter  month province_territory  census_division  \\\n",
       "6106   2015       11     11            Ontario            Elgin   \n",
       "42627  2020       10     10           Manitoba  Division No.  2   \n",
       "3558   2015        8      8             Quebec    Abitibi-Ouest   \n",
       "19351  2017        9      9   British Columbia     Comox Valley   \n",
       "46086  2021        5      5             Quebec         Montréal   \n",
       "\n",
       "      census_subdivision  total  \n",
       "6106          St. Thomas      1  \n",
       "42627          Ste. Anne      2  \n",
       "3558             Macamic      1  \n",
       "19351          Courtenay      5  \n",
       "46086      Pointe-Claire      5  "
      ]
     },
     "execution_count": 25,
     "metadata": {},
     "output_type": "execute_result"
    }
   ],
   "source": [
    "clean_data.sample(5)"
   ]
  },
  {
   "cell_type": "code",
   "execution_count": null,
   "id": "c610df15-75be-4282-9829-2a5d24aec73d",
   "metadata": {},
   "outputs": [],
   "source": []
  },
  {
   "cell_type": "code",
   "execution_count": null,
   "id": "68473fcf-0fcb-4ce4-8c1b-76cf7eb0e5cf",
   "metadata": {},
   "outputs": [],
   "source": []
  },
  {
   "cell_type": "code",
   "execution_count": null,
   "id": "f4f4effc-a543-48df-b307-33f126b4d19f",
   "metadata": {},
   "outputs": [],
   "source": []
  },
  {
   "cell_type": "code",
   "execution_count": null,
   "id": "deeafc8d-6eed-4ca0-a50f-b38278757248",
   "metadata": {},
   "outputs": [],
   "source": []
  },
  {
   "cell_type": "code",
   "execution_count": null,
   "id": "ce5fdb71-ee77-44d0-b3e3-bddb1a3ef38d",
   "metadata": {},
   "outputs": [],
   "source": []
  },
  {
   "cell_type": "code",
   "execution_count": null,
   "id": "440c2ce9-ccc1-4437-be7b-e4117d1e8fe4",
   "metadata": {},
   "outputs": [],
   "source": [
    "from sklearn.preprocessing import MinMaxScaler, StandardScaler\n",
    "import pandas as pd\n"
   ]
  },
  {
   "cell_type": "code",
   "execution_count": null,
   "id": "67f2b72b-565c-4056-ac92-47613c885666",
   "metadata": {},
   "outputs": [],
   "source": []
  },
  {
   "cell_type": "code",
   "execution_count": null,
   "id": "5bfcf8d0-2512-48d0-9dc3-2038a4368d12",
   "metadata": {},
   "outputs": [],
   "source": []
  },
  {
   "cell_type": "code",
   "execution_count": 2,
   "id": "cf8663e2-f347-4d2b-a46a-365ffa85fcf6",
   "metadata": {},
   "outputs": [
    {
     "data": {
      "image/png": "[encoded data removed]",
      "text/plain": [
       "<Figure size 1000x700 with 1 Axes>"
      ]
     },
     "metadata": {},
     "output_type": "display_data"
    }
   ],
   "source": [
    "import numpy as np\n",
    "import matplotlib.pyplot as plt\n",
    "from mpl_toolkits.mplot3d import Axes3D\n",
    "from scipy.stats import norm\n",
    "\n",
    "# Parameters for the normal distributions\n",
    "mu = [0, 2, -2]  # Means of the distributions\n",
    "sigma = [0.5, 1, 1.5]  # Standard deviations of the distributions\n",
    "colors = ['blue', 'green', 'red']  # Colors for each distribution\n",
    "\n",
    "# Create a figure for plotting\n",
    "fig = plt.figure(figsize=(10, 7))\n",
    "ax = fig.add_subplot(111, projection='3d')\n",
    "\n",
    "# Generating data and plotting each normal distribution\n",
    "x = np.linspace(-5, 5, 120)\n",
    "for i in range(len(mu)):\n",
    "    y = norm.pdf(x, mu[i], sigma[i])\n",
    "    z = np.full_like(y, i)  # Creating a flat z-axis level for each distribution\n",
    "    ax.plot(x, y, zs=z, zdir='y', label=f'μ={mu[i]}, σ={sigma[i]}', color=colors[i])\n",
    "\n",
    "# Labels and legend\n",
    "ax.set_xlabel('X')\n",
    "ax.set_ylabel('Distribution')\n",
    "ax.set_zlabel('Probability Density')\n",
    "ax.set_title('Three Normal Distributions in 3D')\n",
    "ax.legend()\n",
    "\n",
    "# Show plot\n",
    "plt.show()\n"
   ]
  },
  {
   "cell_type": "code",
   "execution_count": null,
   "id": "a21a45cc-61c9-4ba8-9de2-314a1e5609d4",
   "metadata": {},
   "outputs": [],
   "source": []
  }
 ],
 "metadata": {
  "kernelspec": {
   "display_name": "Python 3 (ipykernel)",
   "language": "python",
   "name": "python3"
  },
  "language_info": {
   "codemirror_mode": {
    "name": "ipython",
    "version": 3
   },
   "file_extension": ".py",
   "mimetype": "text/x-python",
   "name": "python",
   "nbconvert_exporter": "python",
   "pygments_lexer": "ipython3",
   "version": "3.12.0"
  }
 },
 "nbformat": 4,
 "nbformat_minor": 5
}
